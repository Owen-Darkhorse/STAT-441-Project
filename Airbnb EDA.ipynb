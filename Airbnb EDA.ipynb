{
 "cells": [
  {
   "cell_type": "markdown",
   "metadata": {},
   "source": [
    "# EDA on Airbnb Listings in Toronto\n",
    "The research interest lines in what makes a good Airbnb listing in Toronto"
   ]
  },
  {
   "cell_type": "code",
   "execution_count": 2,
   "metadata": {},
   "outputs": [],
   "source": [
    "import pandas as pd\n",
    "import numpy as np\n",
    "import matplotlib.pyplot as plt\n",
    "import seaborn as sns\n",
    "from datetime import datetime"
   ]
  },
  {
   "cell_type": "code",
   "execution_count": 3,
   "metadata": {},
   "outputs": [
    {
     "data": {
      "text/plain": [
       "74"
      ]
     },
     "execution_count": 3,
     "metadata": {},
     "output_type": "execute_result"
    }
   ],
   "source": [
    "listings = pd.read_csv(\"listings.csv\")\n",
    "row, col = listings.shape\n",
    "row\n",
    "col"
   ]
  },
  {
   "cell_type": "code",
   "execution_count": 4,
   "metadata": {},
   "outputs": [
    {
     "data": {
      "text/plain": [
       "(11313, 15083)"
      ]
     },
     "execution_count": 4,
     "metadata": {},
     "output_type": "execute_result"
    }
   ],
   "source": [
    "# Split training and testing dataset\n",
    "train_index_end = int(row*0.75)\n",
    "train_indx = np.arange(train_index_end)\n",
    "test_indx = np.arange(train_index_end+1, row)\n",
    "train_index_end, test_indx[-1]"
   ]
  },
  {
   "cell_type": "code",
   "execution_count": 5,
   "metadata": {},
   "outputs": [],
   "source": [
    "train_df = listings.iloc[train_indx]\n",
    "test_df = listings.iloc[test_indx]"
   ]
  },
  {
   "cell_type": "code",
   "execution_count": 6,
   "metadata": {},
   "outputs": [
    {
     "data": {
      "text/plain": [
       "(11313, 74)"
      ]
     },
     "execution_count": 6,
     "metadata": {},
     "output_type": "execute_result"
    }
   ],
   "source": [
    "train_df.shape"
   ]
  },
  {
   "cell_type": "code",
   "execution_count": 7,
   "metadata": {},
   "outputs": [
    {
     "data": {
      "text/plain": [
       "Index(['id', 'listing_url', 'scrape_id', 'last_scraped', 'name', 'description',\n",
       "       'neighborhood_overview', 'picture_url', 'host_id', 'host_url',\n",
       "       'host_name', 'host_since', 'host_location', 'host_about',\n",
       "       'host_response_time', 'host_response_rate', 'host_acceptance_rate',\n",
       "       'host_is_superhost', 'host_thumbnail_url', 'host_picture_url',\n",
       "       'host_neighbourhood', 'host_listings_count',\n",
       "       'host_total_listings_count', 'host_verifications',\n",
       "       'host_has_profile_pic', 'host_identity_verified', 'neighbourhood',\n",
       "       'neighbourhood_cleansed', 'neighbourhood_group_cleansed', 'latitude',\n",
       "       'longitude', 'property_type', 'room_type', 'accommodates', 'bathrooms',\n",
       "       'bathrooms_text', 'bedrooms', 'beds', 'amenities', 'price',\n",
       "       'minimum_nights', 'maximum_nights', 'minimum_minimum_nights',\n",
       "       'maximum_minimum_nights', 'minimum_maximum_nights',\n",
       "       'maximum_maximum_nights', 'minimum_nights_avg_ntm',\n",
       "       'maximum_nights_avg_ntm', 'calendar_updated', 'has_availability',\n",
       "       'availability_30', 'availability_60', 'availability_90',\n",
       "       'availability_365', 'calendar_last_scraped', 'number_of_reviews',\n",
       "       'number_of_reviews_ltm', 'number_of_reviews_l30d', 'first_review',\n",
       "       'last_review', 'review_scores_rating', 'review_scores_accuracy',\n",
       "       'review_scores_cleanliness', 'review_scores_checkin',\n",
       "       'review_scores_communication', 'review_scores_location',\n",
       "       'review_scores_value', 'license', 'instant_bookable',\n",
       "       'calculated_host_listings_count',\n",
       "       'calculated_host_listings_count_entire_homes',\n",
       "       'calculated_host_listings_count_private_rooms',\n",
       "       'calculated_host_listings_count_shared_rooms', 'reviews_per_month'],\n",
       "      dtype='object')"
      ]
     },
     "execution_count": 7,
     "metadata": {},
     "output_type": "execute_result"
    }
   ],
   "source": [
    "train_df.columns"
   ]
  },
  {
   "cell_type": "code",
   "execution_count": 8,
   "metadata": {},
   "outputs": [
    {
     "name": "stderr",
     "output_type": "stream",
     "text": [
      "C:\\Users\\j2445wan\\AppData\\Local\\Temp\\16\\ipykernel_15928\\2812972004.py:13: SettingWithCopyWarning: \n",
      "A value is trying to be set on a copy of a slice from a DataFrame\n",
      "\n",
      "See the caveats in the documentation: https://pandas.pydata.org/pandas-docs/stable/user_guide/indexing.html#returning-a-view-versus-a-copy\n",
      "  train_df.drop(var_to_drop, inplace=True, axis = 1)\n"
     ]
    },
    {
     "data": {
      "text/plain": [
       "(11313, 50)"
      ]
     },
     "execution_count": 8,
     "metadata": {},
     "output_type": "execute_result"
    }
   ],
   "source": [
    "# Drop variables that are highly likely irrelevant or difficult to process\n",
    "var_to_drop = [\n",
    "       'listing_url', 'scrape_id', 'last_scraped', 'description',\n",
    "       'neighborhood_overview', 'picture_url', 'neighbourhood', 'latitude',\n",
    "       'longitude', 'minimum_nights', 'maximum_nights', 'minimum_minimum_nights',\n",
    "       'maximum_minimum_nights', 'minimum_maximum_nights',\n",
    "       'maximum_maximum_nights', 'minimum_nights_avg_ntm',\n",
    "       'maximum_nights_avg_ntm', 'calendar_updated', 'has_availability',\n",
    "       'availability_30', 'availability_60', 'availability_90',\n",
    "       'availability_365', 'calendar_last_scraped'      \n",
    "]\n",
    "\n",
    "train_df.drop(var_to_drop, inplace=True, axis = 1)\n",
    "train_df.shape"
   ]
  },
  {
   "cell_type": "markdown",
   "metadata": {},
   "source": [
    "## Get Data Type and Integrity Information"
   ]
  },
  {
   "cell_type": "code",
   "execution_count": 9,
   "metadata": {},
   "outputs": [
    {
     "name": "stdout",
     "output_type": "stream",
     "text": [
      "<class 'pandas.core.frame.DataFrame'>\n",
      "Int64Index: 11313 entries, 0 to 11312\n",
      "Data columns (total 10 columns):\n",
      " #   Column              Non-Null Count  Dtype \n",
      "---  ------              --------------  ----- \n",
      " 0   id                  11313 non-null  int64 \n",
      " 1   name                11312 non-null  object\n",
      " 2   host_id             11313 non-null  int64 \n",
      " 3   host_url            11313 non-null  object\n",
      " 4   host_name           11307 non-null  object\n",
      " 5   host_since          11307 non-null  object\n",
      " 6   host_location       11303 non-null  object\n",
      " 7   host_about          6587 non-null   object\n",
      " 8   host_response_time  5588 non-null   object\n",
      " 9   host_response_rate  5588 non-null   object\n",
      "dtypes: int64(2), object(8)\n",
      "memory usage: 972.2+ KB\n"
     ]
    }
   ],
   "source": [
    "train_df.iloc[:,0:10].info()"
   ]
  },
  {
   "cell_type": "markdown",
   "metadata": {},
   "source": [
    "* Name has one missing value\n",
    "* Neighbor overview has nearly 4000 missing values\n",
    "* IDs are integer valued"
   ]
  },
  {
   "cell_type": "code",
   "execution_count": 10,
   "metadata": {},
   "outputs": [
    {
     "name": "stdout",
     "output_type": "stream",
     "text": [
      "<class 'pandas.core.frame.DataFrame'>\n",
      "Int64Index: 11313 entries, 0 to 11312\n",
      "Data columns (total 10 columns):\n",
      " #   Column                     Non-Null Count  Dtype  \n",
      "---  ------                     --------------  -----  \n",
      " 0   host_acceptance_rate       5776 non-null   object \n",
      " 1   host_is_superhost          11307 non-null  object \n",
      " 2   host_thumbnail_url         11307 non-null  object \n",
      " 3   host_picture_url           11307 non-null  object \n",
      " 4   host_neighbourhood         9706 non-null   object \n",
      " 5   host_listings_count        11307 non-null  float64\n",
      " 6   host_total_listings_count  11307 non-null  float64\n",
      " 7   host_verifications         11313 non-null  object \n",
      " 8   host_has_profile_pic       11307 non-null  object \n",
      " 9   host_identity_verified     11307 non-null  object \n",
      "dtypes: float64(2), object(8)\n",
      "memory usage: 972.2+ KB\n"
     ]
    }
   ],
   "source": [
    "train_df.iloc[:,10:20].info()"
   ]
  },
  {
   "cell_type": "markdown",
   "metadata": {},
   "source": [
    "* All variables in this range have null values\n",
    "* host acceptance rate, neighborhood are the variables with the most missing values. Possibly they are not required to create a profile. \n",
    "* The other with no or just a few missing values.\n",
    "* Host verification is non-null, maybe every host need to be verified on ID\n",
    "* host_has_profile_pic should be boolean, is boolean object?\n",
    "* Many variables are url, for simplicity, **url will be removed**."
   ]
  },
  {
   "cell_type": "code",
   "execution_count": 11,
   "metadata": {},
   "outputs": [
    {
     "name": "stdout",
     "output_type": "stream",
     "text": [
      "<class 'pandas.core.frame.DataFrame'>\n",
      "Int64Index: 11313 entries, 0 to 11312\n",
      "Data columns (total 10 columns):\n",
      " #   Column                        Non-Null Count  Dtype  \n",
      "---  ------                        --------------  -----  \n",
      " 0   neighbourhood_cleansed        11313 non-null  object \n",
      " 1   neighbourhood_group_cleansed  0 non-null      float64\n",
      " 2   property_type                 11313 non-null  object \n",
      " 3   room_type                     11313 non-null  object \n",
      " 4   accommodates                  11313 non-null  int64  \n",
      " 5   bathrooms                     0 non-null      float64\n",
      " 6   bathrooms_text                11306 non-null  object \n",
      " 7   bedrooms                      10509 non-null  float64\n",
      " 8   beds                          11271 non-null  float64\n",
      " 9   amenities                     11313 non-null  object \n",
      "dtypes: float64(4), int64(1), object(5)\n",
      "memory usage: 972.2+ KB\n"
     ]
    }
   ],
   "source": [
    "train_df.iloc[:,20:30].info()"
   ]
  },
  {
   "cell_type": "markdown",
   "metadata": {},
   "source": [
    "* None of entries of neighbourhood group cleansed and bathrooms columns are populated with values. Remove them\n",
    "* The others have only a few null values, fill NA is not big problem"
   ]
  },
  {
   "cell_type": "code",
   "execution_count": 12,
   "metadata": {},
   "outputs": [
    {
     "name": "stdout",
     "output_type": "stream",
     "text": [
      "<class 'pandas.core.frame.DataFrame'>\n",
      "Int64Index: 11313 entries, 0 to 11312\n",
      "Data columns (total 10 columns):\n",
      " #   Column                     Non-Null Count  Dtype  \n",
      "---  ------                     --------------  -----  \n",
      " 0   price                      11313 non-null  object \n",
      " 1   number_of_reviews          11313 non-null  int64  \n",
      " 2   number_of_reviews_ltm      11313 non-null  int64  \n",
      " 3   number_of_reviews_l30d     11313 non-null  int64  \n",
      " 4   first_review               9501 non-null   object \n",
      " 5   last_review                9501 non-null   object \n",
      " 6   review_scores_rating       9501 non-null   float64\n",
      " 7   review_scores_accuracy     9330 non-null   float64\n",
      " 8   review_scores_cleanliness  9332 non-null   float64\n",
      " 9   review_scores_checkin      9329 non-null   float64\n",
      "dtypes: float64(4), int64(3), object(3)\n",
      "memory usage: 972.2+ KB\n"
     ]
    }
   ],
   "source": [
    "train_df.iloc[:,30:40].info()"
   ]
  },
  {
   "cell_type": "markdown",
   "metadata": {},
   "source": [
    "* From price to number of review in the last 30 days are non-null variables\n",
    "* The remaining have around 1500 missing values, they need completion \n",
    "* Price should be float or integer, but it is object, may be $ is included"
   ]
  },
  {
   "cell_type": "code",
   "execution_count": 13,
   "metadata": {},
   "outputs": [
    {
     "name": "stdout",
     "output_type": "stream",
     "text": [
      "<class 'pandas.core.frame.DataFrame'>\n",
      "Int64Index: 11313 entries, 0 to 11312\n",
      "Data columns (total 10 columns):\n",
      " #   Column                                        Non-Null Count  Dtype  \n",
      "---  ------                                        --------------  -----  \n",
      " 0   review_scores_communication                   9329 non-null   float64\n",
      " 1   review_scores_location                        9328 non-null   float64\n",
      " 2   review_scores_value                           9329 non-null   float64\n",
      " 3   license                                       2633 non-null   object \n",
      " 4   instant_bookable                              11313 non-null  object \n",
      " 5   calculated_host_listings_count                11313 non-null  int64  \n",
      " 6   calculated_host_listings_count_entire_homes   11313 non-null  int64  \n",
      " 7   calculated_host_listings_count_private_rooms  11313 non-null  int64  \n",
      " 8   calculated_host_listings_count_shared_rooms   11313 non-null  int64  \n",
      " 9   reviews_per_month                             9501 non-null   float64\n",
      "dtypes: float64(4), int64(4), object(2)\n",
      "memory usage: 972.2+ KB\n"
     ]
    }
   ],
   "source": [
    "train_df.iloc[:,40:50].info()"
   ]
  },
  {
   "cell_type": "markdown",
   "metadata": {},
   "source": [
    "* License hastoo many missing values, should remove license\n",
    "* Scores have around 1800 missing values\n",
    "* Different types of listing count have no null values"
   ]
  },
  {
   "cell_type": "markdown",
   "metadata": {},
   "source": [
    "### Decisions\n",
    "* Remove columns: neighbouhood group cleansed, bathrooms, license\n",
    "* Keep variables with non-null values as low as 5500, correlate them with good host. And use the correlation to impose the missing values\n",
    "* Remove variables with _url in their names\n",
    "* Convert multiple review scores into more synthesized score.\n",
    "* Host about might be a long paragraph of text which is difficult to process, we will leave it out"
   ]
  },
  {
   "cell_type": "markdown",
   "metadata": {},
   "source": [
    "#### Correcting by Removing Bad Data"
   ]
  },
  {
   "cell_type": "code",
   "execution_count": 14,
   "metadata": {},
   "outputs": [
    {
     "data": {
      "text/plain": [
       "['neighbourhood_group_cleansed',\n",
       " 'bathrooms',\n",
       " 'license',\n",
       " 'host_url',\n",
       " 'host_thumbnail_url',\n",
       " 'host_picture_url',\n",
       " 'host_about']"
      ]
     },
     "execution_count": 14,
     "metadata": {},
     "output_type": "execute_result"
    }
   ],
   "source": [
    "null_col = [\"neighbourhood_group_cleansed\", \"bathrooms\", \"license\"]\n",
    "url_col = list(filter(lambda x: \"_url\" in x, train_df.columns))\n",
    "col_to_remove = null_col + url_col + [\"host_about\"]\n",
    "col_to_remove"
   ]
  },
  {
   "cell_type": "code",
   "execution_count": 15,
   "metadata": {},
   "outputs": [
    {
     "name": "stderr",
     "output_type": "stream",
     "text": [
      "C:\\Users\\j2445wan\\AppData\\Local\\Temp\\16\\ipykernel_15928\\1318187045.py:1: SettingWithCopyWarning: \n",
      "A value is trying to be set on a copy of a slice from a DataFrame\n",
      "\n",
      "See the caveats in the documentation: https://pandas.pydata.org/pandas-docs/stable/user_guide/indexing.html#returning-a-view-versus-a-copy\n",
      "  train_df.drop(col_to_remove, axis=1, inplace=True)\n"
     ]
    }
   ],
   "source": [
    "train_df.drop(col_to_remove, axis=1, inplace=True)"
   ]
  },
  {
   "cell_type": "code",
   "execution_count": 16,
   "metadata": {},
   "outputs": [
    {
     "data": {
      "text/plain": [
       "(11313, 43)"
      ]
     },
     "execution_count": 16,
     "metadata": {},
     "output_type": "execute_result"
    }
   ],
   "source": [
    "row, col = train_df.shape\n",
    "row, col"
   ]
  },
  {
   "cell_type": "markdown",
   "metadata": {},
   "source": [
    "#### Convert Price to Numerical Data"
   ]
  },
  {
   "cell_type": "code",
   "execution_count": 17,
   "metadata": {},
   "outputs": [
    {
     "data": {
      "text/plain": [
       "array(['$469.00', '$94.00', '$72.00', '$45.00', '$75.00', '$125.00',\n",
       "       '$100.00', '$70.00', '$70.00', '$130.00'], dtype=object)"
      ]
     },
     "execution_count": 17,
     "metadata": {},
     "output_type": "execute_result"
    }
   ],
   "source": [
    "train_df.price.head(10).values"
   ]
  },
  {
   "cell_type": "code",
   "execution_count": 18,
   "metadata": {},
   "outputs": [
    {
     "data": {
      "text/plain": [
       "0        469\n",
       "1         94\n",
       "2         72\n",
       "3         45\n",
       "4         75\n",
       "        ... \n",
       "11308     89\n",
       "11309     40\n",
       "11310     99\n",
       "11311    109\n",
       "11312     55\n",
       "Name: 0, Length: 11313, dtype: object"
      ]
     },
     "execution_count": 18,
     "metadata": {},
     "output_type": "execute_result"
    }
   ],
   "source": [
    "# Delete $ and convert to float64\n",
    "numerical_price = train_df.price.str.extract(r'(\\d+)\\.(\\d+)')\n",
    "numerical_price = numerical_price.loc[:, 0]\n",
    "numerical_price"
   ]
  },
  {
   "cell_type": "code",
   "execution_count": 19,
   "metadata": {},
   "outputs": [
    {
     "name": "stderr",
     "output_type": "stream",
     "text": [
      "C:\\Users\\j2445wan\\AppData\\Local\\Temp\\16\\ipykernel_15928\\955045270.py:1: SettingWithCopyWarning: \n",
      "A value is trying to be set on a copy of a slice from a DataFrame.\n",
      "Try using .loc[row_indexer,col_indexer] = value instead\n",
      "\n",
      "See the caveats in the documentation: https://pandas.pydata.org/pandas-docs/stable/user_guide/indexing.html#returning-a-view-versus-a-copy\n",
      "  train_df.price = numerical_price\n"
     ]
    },
    {
     "data": {
      "text/plain": [
       "0        469\n",
       "1         94\n",
       "2         72\n",
       "3         45\n",
       "4         75\n",
       "        ... \n",
       "11308     89\n",
       "11309     40\n",
       "11310     99\n",
       "11311    109\n",
       "11312     55\n",
       "Name: price, Length: 11313, dtype: object"
      ]
     },
     "execution_count": 19,
     "metadata": {},
     "output_type": "execute_result"
    }
   ],
   "source": [
    "train_df.price = numerical_price\n",
    "train_df.price"
   ]
  },
  {
   "cell_type": "code",
   "execution_count": 20,
   "metadata": {},
   "outputs": [
    {
     "name": "stderr",
     "output_type": "stream",
     "text": [
      "C:\\Users\\j2445wan\\AppData\\Local\\Temp\\16\\ipykernel_15928\\2929202183.py:2: SettingWithCopyWarning: \n",
      "A value is trying to be set on a copy of a slice from a DataFrame.\n",
      "Try using .loc[row_indexer,col_indexer] = value instead\n",
      "\n",
      "See the caveats in the documentation: https://pandas.pydata.org/pandas-docs/stable/user_guide/indexing.html#returning-a-view-versus-a-copy\n",
      "  train_df.price = train_df.price.astype('int64')\n"
     ]
    }
   ],
   "source": [
    "# Set type to integer\n",
    "train_df.price = train_df.price.astype('int64')"
   ]
  },
  {
   "cell_type": "markdown",
   "metadata": {},
   "source": [
    "#### Combining Scores into One Unified Metrics"
   ]
  },
  {
   "cell_type": "markdown",
   "metadata": {},
   "source": [
    "* Rating is the overall experience of travelers, assign 0.025\n",
    "* Cleaness is a big part, assign 0.2\n",
    "* Accuracy relates to faithful representation, assign 0.2\n",
    "* Communication relects attitude and warmth,  assign 0.15\n",
    "* Check-in shouldn't be a big problem in most places, assign 0.025\n",
    "* Value means cost-effectiveness, assign 0.2\n",
    "* Location affect safety, noise, and convenience, assign 0.2"
   ]
  },
  {
   "cell_type": "code",
   "execution_count": 21,
   "metadata": {},
   "outputs": [],
   "source": [
    "combine_score = (train_df.review_scores_rating*0.025 + \n",
    "train_df.review_scores_accuracy*0.2 + \n",
    "train_df.review_scores_cleanliness*0.2 + \n",
    "train_df.review_scores_checkin*0.05 + \n",
    "train_df.review_scores_communication*0.15+ \n",
    "train_df.review_scores_location*0.175+ \n",
    "train_df.review_scores_value*0.2)"
   ]
  },
  {
   "cell_type": "code",
   "execution_count": 22,
   "metadata": {},
   "outputs": [
    {
     "name": "stdout",
     "output_type": "stream",
     "text": [
      "<class 'pandas.core.series.Series'>\n",
      "Int64Index: 11313 entries, 0 to 11312\n",
      "Series name: None\n",
      "Non-Null Count  Dtype  \n",
      "--------------  -----  \n",
      "9328 non-null   float64\n",
      "dtypes: float64(1)\n",
      "memory usage: 434.8 KB\n"
     ]
    },
    {
     "data": {
      "text/plain": [
       "(0    5.00000\n",
       " 1    4.86650\n",
       " 2    4.71875\n",
       " 3    4.89450\n",
       " 4    4.90550\n",
       " 5        NaN\n",
       " 6    4.70125\n",
       " 7    4.07500\n",
       " 8    4.78775\n",
       " 9        NaN\n",
       " dtype: float64,\n",
       " None)"
      ]
     },
     "execution_count": 22,
     "metadata": {},
     "output_type": "execute_result"
    }
   ],
   "source": [
    "combine_score[:10], combine_score.info()"
   ]
  },
  {
   "cell_type": "code",
   "execution_count": 23,
   "metadata": {},
   "outputs": [
    {
     "name": "stdout",
     "output_type": "stream",
     "text": [
      "<class 'pandas.core.frame.DataFrame'>\n",
      "Int64Index: 11313 entries, 0 to 11312\n",
      "Data columns (total 7 columns):\n",
      " #   Column                       Non-Null Count  Dtype  \n",
      "---  ------                       --------------  -----  \n",
      " 0   review_scores_rating         9501 non-null   float64\n",
      " 1   review_scores_accuracy       9330 non-null   float64\n",
      " 2   review_scores_cleanliness    9332 non-null   float64\n",
      " 3   review_scores_checkin        9329 non-null   float64\n",
      " 4   review_scores_communication  9329 non-null   float64\n",
      " 5   review_scores_location       9328 non-null   float64\n",
      " 6   review_scores_value          9329 non-null   float64\n",
      "dtypes: float64(7)\n",
      "memory usage: 965.1 KB\n"
     ]
    }
   ],
   "source": [
    "train_df[list(filter(lambda x: \"review_scores\" in x, train_df.columns.values))].info()"
   ]
  },
  {
   "cell_type": "markdown",
   "metadata": {},
   "source": [
    "Seems that at least 9328 cells are populated with data for review scores, and exactly 9328 units are completely populated with data for the combined score."
   ]
  },
  {
   "cell_type": "code",
   "execution_count": 24,
   "metadata": {},
   "outputs": [
    {
     "data": {
      "text/plain": [
       "0    good\n",
       "1    good\n",
       "2    good\n",
       "3    good\n",
       "4    good\n",
       "5    poor\n",
       "dtype: object"
      ]
     },
     "execution_count": 24,
     "metadata": {},
     "output_type": "execute_result"
    }
   ],
   "source": [
    "score_band = pd.Series(map(lambda x: \"good\" if x >= 4 else (\"fair\" if x >= 3 else \"poor\"), combine_score))\n",
    "score_band.head(6)"
   ]
  },
  {
   "cell_type": "code",
   "execution_count": 25,
   "metadata": {},
   "outputs": [
    {
     "name": "stderr",
     "output_type": "stream",
     "text": [
      "C:\\Users\\j2445wan\\AppData\\Local\\Temp\\16\\ipykernel_15928\\2989994410.py:1: SettingWithCopyWarning: \n",
      "A value is trying to be set on a copy of a slice from a DataFrame.\n",
      "Try using .loc[row_indexer,col_indexer] = value instead\n",
      "\n",
      "See the caveats in the documentation: https://pandas.pydata.org/pandas-docs/stable/user_guide/indexing.html#returning-a-view-versus-a-copy\n",
      "  train_df[\"score_band\"] = score_band\n",
      "C:\\Users\\j2445wan\\AppData\\Local\\Temp\\16\\ipykernel_15928\\2989994410.py:2: SettingWithCopyWarning: \n",
      "A value is trying to be set on a copy of a slice from a DataFrame\n",
      "\n",
      "See the caveats in the documentation: https://pandas.pydata.org/pandas-docs/stable/user_guide/indexing.html#returning-a-view-versus-a-copy\n",
      "  train_df.drop(list(filter(lambda x: \"review_scores\" in x, train_df.columns.values)), axis = 1, inplace=True)\n"
     ]
    },
    {
     "data": {
      "text/plain": [
       "Index(['id', 'name', 'host_id', 'host_name', 'host_since', 'host_location',\n",
       "       'host_response_time', 'host_response_rate', 'host_acceptance_rate',\n",
       "       'host_is_superhost', 'host_neighbourhood', 'host_listings_count',\n",
       "       'host_total_listings_count', 'host_verifications',\n",
       "       'host_has_profile_pic', 'host_identity_verified',\n",
       "       'neighbourhood_cleansed', 'property_type', 'room_type', 'accommodates',\n",
       "       'bathrooms_text', 'bedrooms', 'beds', 'amenities', 'price',\n",
       "       'number_of_reviews', 'number_of_reviews_ltm', 'number_of_reviews_l30d',\n",
       "       'first_review', 'last_review', 'instant_bookable',\n",
       "       'calculated_host_listings_count',\n",
       "       'calculated_host_listings_count_entire_homes',\n",
       "       'calculated_host_listings_count_private_rooms',\n",
       "       'calculated_host_listings_count_shared_rooms', 'reviews_per_month',\n",
       "       'score_band'],\n",
       "      dtype='object')"
      ]
     },
     "execution_count": 25,
     "metadata": {},
     "output_type": "execute_result"
    }
   ],
   "source": [
    "train_df[\"score_band\"] = score_band\n",
    "train_df.drop(list(filter(lambda x: \"review_scores\" in x, train_df.columns.values)), axis = 1, inplace=True)\n",
    "train_df.columns"
   ]
  },
  {
   "cell_type": "markdown",
   "metadata": {},
   "source": [
    "## Describe the Data"
   ]
  },
  {
   "cell_type": "code",
   "execution_count": 26,
   "metadata": {},
   "outputs": [
    {
     "data": {
      "text/html": [
       "<div>\n",
       "<style scoped>\n",
       "    .dataframe tbody tr th:only-of-type {\n",
       "        vertical-align: middle;\n",
       "    }\n",
       "\n",
       "    .dataframe tbody tr th {\n",
       "        vertical-align: top;\n",
       "    }\n",
       "\n",
       "    .dataframe thead th {\n",
       "        text-align: right;\n",
       "    }\n",
       "</style>\n",
       "<table border=\"1\" class=\"dataframe\">\n",
       "  <thead>\n",
       "    <tr style=\"text-align: right;\">\n",
       "      <th></th>\n",
       "      <th>name</th>\n",
       "      <th>host_name</th>\n",
       "      <th>host_since</th>\n",
       "      <th>host_location</th>\n",
       "      <th>host_response_time</th>\n",
       "      <th>host_response_rate</th>\n",
       "      <th>host_acceptance_rate</th>\n",
       "      <th>host_is_superhost</th>\n",
       "    </tr>\n",
       "  </thead>\n",
       "  <tbody>\n",
       "    <tr>\n",
       "      <th>count</th>\n",
       "      <td>11312</td>\n",
       "      <td>11307</td>\n",
       "      <td>11307</td>\n",
       "      <td>11303</td>\n",
       "      <td>5588</td>\n",
       "      <td>5588</td>\n",
       "      <td>5776</td>\n",
       "      <td>11307</td>\n",
       "    </tr>\n",
       "    <tr>\n",
       "      <th>unique</th>\n",
       "      <td>11171</td>\n",
       "      <td>4032</td>\n",
       "      <td>2855</td>\n",
       "      <td>293</td>\n",
       "      <td>4</td>\n",
       "      <td>65</td>\n",
       "      <td>87</td>\n",
       "      <td>2</td>\n",
       "    </tr>\n",
       "    <tr>\n",
       "      <th>top</th>\n",
       "      <td>Private room in a shared hostel suite downtown</td>\n",
       "      <td>David</td>\n",
       "      <td>2011-07-06</td>\n",
       "      <td>Toronto, Ontario, Canada</td>\n",
       "      <td>within an hour</td>\n",
       "      <td>100%</td>\n",
       "      <td>100%</td>\n",
       "      <td>f</td>\n",
       "    </tr>\n",
       "    <tr>\n",
       "      <th>freq</th>\n",
       "      <td>8</td>\n",
       "      <td>89</td>\n",
       "      <td>49</td>\n",
       "      <td>8769</td>\n",
       "      <td>2802</td>\n",
       "      <td>3716</td>\n",
       "      <td>1751</td>\n",
       "      <td>8249</td>\n",
       "    </tr>\n",
       "  </tbody>\n",
       "</table>\n",
       "</div>"
      ],
      "text/plain": [
       "                                                  name host_name  host_since  \\\n",
       "count                                            11312     11307       11307   \n",
       "unique                                           11171      4032        2855   \n",
       "top     Private room in a shared hostel suite downtown     David  2011-07-06   \n",
       "freq                                                 8        89          49   \n",
       "\n",
       "                   host_location host_response_time host_response_rate  \\\n",
       "count                      11303               5588               5588   \n",
       "unique                       293                  4                 65   \n",
       "top     Toronto, Ontario, Canada     within an hour               100%   \n",
       "freq                        8769               2802               3716   \n",
       "\n",
       "       host_acceptance_rate host_is_superhost  \n",
       "count                  5776             11307  \n",
       "unique                   87                 2  \n",
       "top                    100%                 f  \n",
       "freq                   1751              8249  "
      ]
     },
     "execution_count": 26,
     "metadata": {},
     "output_type": "execute_result"
    }
   ],
   "source": [
    "train_df.iloc[:,0:10].describe(include=\"O\")"
   ]
  },
  {
   "cell_type": "markdown",
   "metadata": {},
   "source": [
    "* There are duplicate names of listings, meaning that the same listing is rented twice or more\n",
    "* Host name shows duplicates. The guy named \"David\" had 89 listing records\n",
    "* Host_since should be date object, need to check if the type is desired\n",
    "* The locations are more concentrated, 11303 listing to 293 unique locations. The top value seems not indicating accurate street address, need to further inpect value behaviour\n",
    "* Host response time seems to have only a few unique values, and it shows in text like \"within an hour.\" Need to further inspect it\n",
    "* Response rate and acceptance rate are shown as text due % sign. Need to inspect values and remove % sign.\n",
    "* Need to convert host_is_superhost into boolean values"
   ]
  },
  {
   "cell_type": "markdown",
   "metadata": {},
   "source": [
    "### Correcting object-valued variables in the first 10 variables"
   ]
  },
  {
   "cell_type": "code",
   "execution_count": 27,
   "metadata": {},
   "outputs": [
    {
     "data": {
      "text/plain": [
       "<bound method Series.unique of 0             Alexandra\n",
       "1        Kathie & Larry\n",
       "2         Yohan & Sarah\n",
       "3                 Brent\n",
       "4                  Rita\n",
       "              ...      \n",
       "11308            Bozica\n",
       "11309             Cathy\n",
       "11310            Bozica\n",
       "11311            Elaine\n",
       "11312            Irmita\n",
       "Name: host_name, Length: 11313, dtype: object>"
      ]
     },
     "execution_count": 27,
     "metadata": {},
     "output_type": "execute_result"
    }
   ],
   "source": [
    "train_df.host_name.unique"
   ]
  },
  {
   "cell_type": "code",
   "execution_count": 28,
   "metadata": {},
   "outputs": [
    {
     "data": {
      "text/plain": [
       "str"
      ]
     },
     "execution_count": 28,
     "metadata": {},
     "output_type": "execute_result"
    }
   ],
   "source": [
    "test_date = train_df.host_since.values[0]\n",
    "type(test_date)"
   ]
  },
  {
   "cell_type": "code",
   "execution_count": 29,
   "metadata": {},
   "outputs": [
    {
     "name": "stderr",
     "output_type": "stream",
     "text": [
      "C:\\Users\\j2445wan\\AppData\\Local\\Temp\\16\\ipykernel_15928\\43717234.py:1: SettingWithCopyWarning: \n",
      "A value is trying to be set on a copy of a slice from a DataFrame.\n",
      "Try using .loc[row_indexer,col_indexer] = value instead\n",
      "\n",
      "See the caveats in the documentation: https://pandas.pydata.org/pandas-docs/stable/user_guide/indexing.html#returning-a-view-versus-a-copy\n",
      "  train_df.host_since = pd.to_datetime(train_df.host_since, infer_datetime_format=True)\n"
     ]
    }
   ],
   "source": [
    "train_df.host_since = pd.to_datetime(train_df.host_since, infer_datetime_format=True)"
   ]
  },
  {
   "cell_type": "code",
   "execution_count": 30,
   "metadata": {},
   "outputs": [
    {
     "data": {
      "text/plain": [
       "array([nan, 'within a few hours', 'within an hour', 'within a day',\n",
       "       'a few days or more'], dtype=object)"
      ]
     },
     "execution_count": 30,
     "metadata": {},
     "output_type": "execute_result"
    }
   ],
   "source": [
    "train_df.host_response_time.unique()"
   ]
  },
  {
   "cell_type": "code",
   "execution_count": 31,
   "metadata": {},
   "outputs": [
    {
     "name": "stderr",
     "output_type": "stream",
     "text": [
      "C:\\Users\\j2445wan\\AppData\\Local\\Temp\\16\\ipykernel_15928\\1512940098.py:2: SettingWithCopyWarning: \n",
      "A value is trying to be set on a copy of a slice from a DataFrame.\n",
      "Try using .loc[row_indexer,col_indexer] = value instead\n",
      "\n",
      "See the caveats in the documentation: https://pandas.pydata.org/pandas-docs/stable/user_guide/indexing.html#returning-a-view-versus-a-copy\n",
      "  train_df.host_response_time = train_df.host_response_time.map(\n"
     ]
    },
    {
     "data": {
      "text/plain": [
       "0        4\n",
       "1        4\n",
       "2        4\n",
       "3        4\n",
       "4        1\n",
       "        ..\n",
       "11308    4\n",
       "11309    4\n",
       "11310    4\n",
       "11311    4\n",
       "11312    4\n",
       "Name: host_response_time, Length: 11313, dtype: int64"
      ]
     },
     "execution_count": 31,
     "metadata": {},
     "output_type": "execute_result"
    }
   ],
   "source": [
    "#Since host response time is labeled in an ordinal order, we can convert it to ordinal values\n",
    "train_df.host_response_time = train_df.host_response_time.map(\n",
    "    {'within a few hours':1, 'within an hour':2, 'within a day':3,\n",
    "    'a few days or more':4, np.NaN: 4})\n",
    "train_df.host_response_time"
   ]
  },
  {
   "cell_type": "code",
   "execution_count": 32,
   "metadata": {},
   "outputs": [
    {
     "data": {
      "text/plain": [
       "array([nan, '54%', '100%', '82%', '50%', '97%', '0%', '96%', '94%', '92%',\n",
       "       '75%', '33%', '99%', '80%', '61%', '86%', '95%', '68%', '91%',\n",
       "       '18%', '65%', '90%', '98%', '72%', '71%', '69%', '67%', '93%',\n",
       "       '40%', '27%', '73%', '76%', '57%', '10%', '85%', '64%', '56%',\n",
       "       '83%', '81%', '47%', '74%', '62%', '17%', '70%', '88%', '22%',\n",
       "       '25%', '79%', '89%', '30%', '63%', '42%', '41%', '20%', '78%',\n",
       "       '60%', '29%', '35%', '77%', '52%', '14%', '87%', '55%', '46%',\n",
       "       '38%', '59%', '51%', '31%', '8%', '84%', '13%', '36%', '44%',\n",
       "       '43%', '5%', '58%', '9%', '15%', '24%', '53%', '21%', '11%', '48%',\n",
       "       '66%', '45%', '34%', '39%', '16%'], dtype=object)"
      ]
     },
     "execution_count": 32,
     "metadata": {},
     "output_type": "execute_result"
    }
   ],
   "source": [
    "train_df.host_acceptance_rate.unique()"
   ]
  },
  {
   "cell_type": "code",
   "execution_count": 33,
   "metadata": {},
   "outputs": [
    {
     "name": "stderr",
     "output_type": "stream",
     "text": [
      "C:\\Users\\j2445wan\\AppData\\Local\\Temp\\16\\ipykernel_15928\\1638827011.py:1: SettingWithCopyWarning: \n",
      "A value is trying to be set on a copy of a slice from a DataFrame.\n",
      "Try using .loc[row_indexer,col_indexer] = value instead\n",
      "\n",
      "See the caveats in the documentation: https://pandas.pydata.org/pandas-docs/stable/user_guide/indexing.html#returning-a-view-versus-a-copy\n",
      "  train_df.host_acceptance_rate = train_df.host_acceptance_rate.str.rstrip(\"%\")\n"
     ]
    },
    {
     "data": {
      "text/plain": [
       "array([nan, '54', '100', '82', '50', '97', '0', '96', '94', '92', '75',\n",
       "       '33', '99', '80', '61', '86', '95', '68', '91', '18', '65', '90',\n",
       "       '98', '72', '71', '69', '67', '93', '40', '27', '73', '76', '57',\n",
       "       '10', '85', '64', '56', '83', '81', '47', '74', '62', '17', '70',\n",
       "       '88', '22', '25', '79', '89', '30', '63', '42', '41', '20', '78',\n",
       "       '60', '29', '35', '77', '52', '14', '87', '55', '46', '38', '59',\n",
       "       '51', '31', '8', '84', '13', '36', '44', '43', '5', '58', '9',\n",
       "       '15', '24', '53', '21', '11', '48', '66', '45', '34', '39', '16'],\n",
       "      dtype=object)"
      ]
     },
     "execution_count": 33,
     "metadata": {},
     "output_type": "execute_result"
    }
   ],
   "source": [
    "train_df.host_acceptance_rate = train_df.host_acceptance_rate.str.rstrip(\"%\")\n",
    "train_df.host_acceptance_rate.unique()"
   ]
  },
  {
   "cell_type": "code",
   "execution_count": 34,
   "metadata": {},
   "outputs": [
    {
     "name": "stderr",
     "output_type": "stream",
     "text": [
      "C:\\Users\\j2445wan\\AppData\\Local\\Temp\\16\\ipykernel_15928\\1715866527.py:12: SettingWithCopyWarning: \n",
      "A value is trying to be set on a copy of a slice from a DataFrame\n",
      "\n",
      "See the caveats in the documentation: https://pandas.pydata.org/pandas-docs/stable/user_guide/indexing.html#returning-a-view-versus-a-copy\n",
      "  train_df.host_acceptance_rate.loc[indx_for_convertion] = train_df.host_acceptance_rate.loc[indx_for_convertion].astype(\"int32\")\n"
     ]
    }
   ],
   "source": [
    "def rate_band(rate):\n",
    "    if rate == np.NaN:\n",
    "        return 4\n",
    "\n",
    "    if rate >= 80:\n",
    "        return 1\n",
    "    elif rate >= 60:\n",
    "        return 2\n",
    "    else :\n",
    "        return 3\n",
    "indx_for_convertion = train_df.host_acceptance_rate.notnull()\n",
    "train_df.host_acceptance_rate.loc[indx_for_convertion] = train_df.host_acceptance_rate.loc[indx_for_convertion].astype(\"int32\")"
   ]
  },
  {
   "cell_type": "code",
   "execution_count": 35,
   "metadata": {},
   "outputs": [
    {
     "name": "stderr",
     "output_type": "stream",
     "text": [
      "C:\\Users\\j2445wan\\AppData\\Local\\Temp\\16\\ipykernel_15928\\923330360.py:1: SettingWithCopyWarning: \n",
      "A value is trying to be set on a copy of a slice from a DataFrame.\n",
      "Try using .loc[row_indexer,col_indexer] = value instead\n",
      "\n",
      "See the caveats in the documentation: https://pandas.pydata.org/pandas-docs/stable/user_guide/indexing.html#returning-a-view-versus-a-copy\n",
      "  train_df.host_acceptance_rate = train_df.host_acceptance_rate.map(rate_band)\n"
     ]
    },
    {
     "data": {
      "text/plain": [
       "(11313,)"
      ]
     },
     "execution_count": 35,
     "metadata": {},
     "output_type": "execute_result"
    }
   ],
   "source": [
    "train_df.host_acceptance_rate = train_df.host_acceptance_rate.map(rate_band)\n",
    "train_df.host_acceptance_rate.shape"
   ]
  },
  {
   "cell_type": "code",
   "execution_count": 36,
   "metadata": {},
   "outputs": [
    {
     "name": "stderr",
     "output_type": "stream",
     "text": [
      "C:\\Users\\j2445wan\\AppData\\Local\\Temp\\16\\ipykernel_15928\\1352797550.py:2: SettingWithCopyWarning: \n",
      "A value is trying to be set on a copy of a slice from a DataFrame.\n",
      "Try using .loc[row_indexer,col_indexer] = value instead\n",
      "\n",
      "See the caveats in the documentation: https://pandas.pydata.org/pandas-docs/stable/user_guide/indexing.html#returning-a-view-versus-a-copy\n",
      "  train_df.host_response_rate = train_df.host_response_rate.str.rstrip(\"%\")\n"
     ]
    }
   ],
   "source": [
    "# Convert response rate\n",
    "train_df.host_response_rate = train_df.host_response_rate.str.rstrip(\"%\")\n",
    "indx_for_convertion = train_df.host_response_rate.notnull()"
   ]
  },
  {
   "cell_type": "code",
   "execution_count": 37,
   "metadata": {},
   "outputs": [
    {
     "ename": "TypeError",
     "evalue": "boolean value of NA is ambiguous",
     "output_type": "error",
     "traceback": [
      "\u001b[1;31m---------------------------------------------------------------------------\u001b[0m",
      "\u001b[1;31mTypeError\u001b[0m                                 Traceback (most recent call last)",
      "Cell \u001b[1;32mIn [37], line 1\u001b[0m\n\u001b[1;32m----> 1\u001b[0m train_df\u001b[38;5;241m.\u001b[39mhost_response_rate \u001b[38;5;241m=\u001b[39m \u001b[43mtrain_df\u001b[49m\u001b[38;5;241;43m.\u001b[39;49m\u001b[43mhost_response_rate\u001b[49m\u001b[38;5;241;43m.\u001b[39;49m\u001b[43mastype\u001b[49m\u001b[43m(\u001b[49m\u001b[38;5;124;43m\"\u001b[39;49m\u001b[38;5;124;43mInt32\u001b[39;49m\u001b[38;5;124;43m\"\u001b[39;49m\u001b[43m)\u001b[49m\u001b[38;5;241;43m.\u001b[39;49m\u001b[43mmap\u001b[49m\u001b[43m(\u001b[49m\u001b[43mrate_band\u001b[49m\u001b[43m)\u001b[49m\n\u001b[0;32m      2\u001b[0m train_df\u001b[38;5;241m.\u001b[39mhost_response_rate\u001b[38;5;241m.\u001b[39mdtype\n\u001b[0;32m      3\u001b[0m \u001b[38;5;28mtype\u001b[39m(train_df\u001b[38;5;241m.\u001b[39mhost_response_rate[\u001b[38;5;241m0\u001b[39m]), train_df\u001b[38;5;241m.\u001b[39mhost_response_rate\n",
      "File \u001b[1;32m~\\AppData\\Roaming\\Python\\Python310\\site-packages\\pandas\\core\\series.py:4539\u001b[0m, in \u001b[0;36mSeries.map\u001b[1;34m(self, arg, na_action)\u001b[0m\n\u001b[0;32m   4460\u001b[0m \u001b[39mdef\u001b[39;00m \u001b[39mmap\u001b[39m(\n\u001b[0;32m   4461\u001b[0m     \u001b[39mself\u001b[39m,\n\u001b[0;32m   4462\u001b[0m     arg: Callable \u001b[39m|\u001b[39m Mapping \u001b[39m|\u001b[39m Series,\n\u001b[0;32m   4463\u001b[0m     na_action: Literal[\u001b[39m\"\u001b[39m\u001b[39mignore\u001b[39m\u001b[39m\"\u001b[39m] \u001b[39m|\u001b[39m \u001b[39mNone\u001b[39;00m \u001b[39m=\u001b[39m \u001b[39mNone\u001b[39;00m,\n\u001b[0;32m   4464\u001b[0m ) \u001b[39m-\u001b[39m\u001b[39m>\u001b[39m Series:\n\u001b[0;32m   4465\u001b[0m     \u001b[39m\"\"\"\u001b[39;00m\n\u001b[0;32m   4466\u001b[0m \u001b[39m    Map values of Series according to an input mapping or function.\u001b[39;00m\n\u001b[0;32m   4467\u001b[0m \n\u001b[1;32m   (...)\u001b[0m\n\u001b[0;32m   4537\u001b[0m \u001b[39m    dtype: object\u001b[39;00m\n\u001b[0;32m   4538\u001b[0m \u001b[39m    \"\"\"\u001b[39;00m\n\u001b[1;32m-> 4539\u001b[0m     new_values \u001b[39m=\u001b[39m \u001b[39mself\u001b[39;49m\u001b[39m.\u001b[39;49m_map_values(arg, na_action\u001b[39m=\u001b[39;49mna_action)\n\u001b[0;32m   4540\u001b[0m     \u001b[39mreturn\u001b[39;00m \u001b[39mself\u001b[39m\u001b[39m.\u001b[39m_constructor(new_values, index\u001b[39m=\u001b[39m\u001b[39mself\u001b[39m\u001b[39m.\u001b[39mindex)\u001b[39m.\u001b[39m__finalize__(\n\u001b[0;32m   4541\u001b[0m         \u001b[39mself\u001b[39m, method\u001b[39m=\u001b[39m\u001b[39m\"\u001b[39m\u001b[39mmap\u001b[39m\u001b[39m\"\u001b[39m\n\u001b[0;32m   4542\u001b[0m     )\n",
      "File \u001b[1;32m~\\AppData\\Roaming\\Python\\Python310\\site-packages\\pandas\\core\\base.py:890\u001b[0m, in \u001b[0;36mIndexOpsMixin._map_values\u001b[1;34m(self, mapper, na_action)\u001b[0m\n\u001b[0;32m    887\u001b[0m         \u001b[39mraise\u001b[39;00m \u001b[39mValueError\u001b[39;00m(msg)\n\u001b[0;32m    889\u001b[0m \u001b[39m# mapper is a function\u001b[39;00m\n\u001b[1;32m--> 890\u001b[0m new_values \u001b[39m=\u001b[39m map_f(values, mapper)\n\u001b[0;32m    892\u001b[0m \u001b[39mreturn\u001b[39;00m new_values\n",
      "File \u001b[1;32m~\\AppData\\Roaming\\Python\\Python310\\site-packages\\pandas\\_libs\\lib.pyx:2918\u001b[0m, in \u001b[0;36mpandas._libs.lib.map_infer\u001b[1;34m()\u001b[0m\n",
      "Cell \u001b[1;32mIn [34], line 2\u001b[0m, in \u001b[0;36mrate_band\u001b[1;34m(rate)\u001b[0m\n\u001b[0;32m      1\u001b[0m \u001b[38;5;28;01mdef\u001b[39;00m \u001b[38;5;21mrate_band\u001b[39m(rate):\n\u001b[1;32m----> 2\u001b[0m     \u001b[38;5;28;01mif\u001b[39;00m \u001b[43mrate\u001b[49m\u001b[43m \u001b[49m\u001b[38;5;241;43m==\u001b[39;49m\u001b[43m \u001b[49m\u001b[43mnp\u001b[49m\u001b[38;5;241;43m.\u001b[39;49m\u001b[43mNaN\u001b[49m:\n\u001b[0;32m      3\u001b[0m         \u001b[38;5;28;01mreturn\u001b[39;00m \u001b[38;5;241m4\u001b[39m\n\u001b[0;32m      5\u001b[0m     \u001b[38;5;28;01mif\u001b[39;00m rate \u001b[38;5;241m>\u001b[39m\u001b[38;5;241m=\u001b[39m \u001b[38;5;241m80\u001b[39m:\n",
      "File \u001b[1;32m~\\AppData\\Roaming\\Python\\Python310\\site-packages\\pandas\\_libs\\missing.pyx:382\u001b[0m, in \u001b[0;36mpandas._libs.missing.NAType.__bool__\u001b[1;34m()\u001b[0m\n",
      "\u001b[1;31mTypeError\u001b[0m: boolean value of NA is ambiguous"
     ]
    }
   ],
   "source": [
    "train_df.host_response_rate = train_df.host_response_rate.astype(\"Int32\").map(rate_band)\n",
    "train_df.host_response_rate.dtype\n",
    "type(train_df.host_response_rate[0]), train_df.host_response_rate"
   ]
  },
  {
   "cell_type": "code",
   "execution_count": null,
   "metadata": {},
   "outputs": [
    {
     "name": "stderr",
     "output_type": "stream",
     "text": [
      "C:\\Users\\wjx\\AppData\\Local\\Temp\\ipykernel_16348\\2890648048.py:1: SettingWithCopyWarning: \n",
      "A value is trying to be set on a copy of a slice from a DataFrame\n",
      "\n",
      "See the caveats in the documentation: https://pandas.pydata.org/pandas-docs/stable/user_guide/indexing.html#returning-a-view-versus-a-copy\n",
      "  train_df.host_response_rate.loc[train_df.host_response_rate.notnull()] = train_df.host_response_rate.loc[train_df.host_response_rate.notnull()].apply(int)\n"
     ]
    },
    {
     "data": {
      "text/plain": [
       "100"
      ]
     },
     "execution_count": 101,
     "metadata": {},
     "output_type": "execute_result"
    }
   ],
   "source": [
    "train_df.host_response_rate.loc[train_df.host_response_rate.notnull()] = train_df.host_response_rate.loc[train_df.host_response_rate.notnull()].apply(int)\n",
    "train_df.host_response_rate[4]"
   ]
  },
  {
   "cell_type": "code",
   "execution_count": 45,
   "metadata": {},
   "outputs": [
    {
     "data": {
      "text/html": [
       "<div>\n",
       "<style scoped>\n",
       "    .dataframe tbody tr th:only-of-type {\n",
       "        vertical-align: middle;\n",
       "    }\n",
       "\n",
       "    .dataframe tbody tr th {\n",
       "        vertical-align: top;\n",
       "    }\n",
       "\n",
       "    .dataframe thead th {\n",
       "        text-align: right;\n",
       "    }\n",
       "</style>\n",
       "<table border=\"1\" class=\"dataframe\">\n",
       "  <thead>\n",
       "    <tr style=\"text-align: right;\">\n",
       "      <th></th>\n",
       "      <th>host_response_time</th>\n",
       "      <th>host_acceptance_rate</th>\n",
       "    </tr>\n",
       "  </thead>\n",
       "  <tbody>\n",
       "    <tr>\n",
       "      <th>count</th>\n",
       "      <td>11313.000000</td>\n",
       "      <td>11313.000000</td>\n",
       "    </tr>\n",
       "    <tr>\n",
       "      <th>mean</th>\n",
       "      <td>3.067445</td>\n",
       "      <td>2.258729</td>\n",
       "    </tr>\n",
       "    <tr>\n",
       "      <th>std</th>\n",
       "      <td>1.136834</td>\n",
       "      <td>0.929808</td>\n",
       "    </tr>\n",
       "    <tr>\n",
       "      <th>min</th>\n",
       "      <td>1.000000</td>\n",
       "      <td>1.000000</td>\n",
       "    </tr>\n",
       "    <tr>\n",
       "      <th>25%</th>\n",
       "      <td>2.000000</td>\n",
       "      <td>1.000000</td>\n",
       "    </tr>\n",
       "    <tr>\n",
       "      <th>50%</th>\n",
       "      <td>4.000000</td>\n",
       "      <td>3.000000</td>\n",
       "    </tr>\n",
       "    <tr>\n",
       "      <th>75%</th>\n",
       "      <td>4.000000</td>\n",
       "      <td>3.000000</td>\n",
       "    </tr>\n",
       "    <tr>\n",
       "      <th>max</th>\n",
       "      <td>4.000000</td>\n",
       "      <td>3.000000</td>\n",
       "    </tr>\n",
       "  </tbody>\n",
       "</table>\n",
       "</div>"
      ],
      "text/plain": [
       "       host_response_time  host_acceptance_rate\n",
       "count        11313.000000          11313.000000\n",
       "mean             3.067445              2.258729\n",
       "std              1.136834              0.929808\n",
       "min              1.000000              1.000000\n",
       "25%              2.000000              1.000000\n",
       "50%              4.000000              3.000000\n",
       "75%              4.000000              3.000000\n",
       "max              4.000000              3.000000"
      ]
     },
     "execution_count": 45,
     "metadata": {},
     "output_type": "execute_result"
    }
   ],
   "source": [
    "train_df.iloc[:, 0:10].describe()"
   ]
  },
  {
   "cell_type": "code",
   "execution_count": 41,
   "metadata": {},
   "outputs": [
    {
     "data": {
      "text/html": [
       "<div>\n",
       "<style scoped>\n",
       "    .dataframe tbody tr th:only-of-type {\n",
       "        vertical-align: middle;\n",
       "    }\n",
       "\n",
       "    .dataframe tbody tr th {\n",
       "        vertical-align: top;\n",
       "    }\n",
       "\n",
       "    .dataframe thead th {\n",
       "        text-align: right;\n",
       "    }\n",
       "</style>\n",
       "<table border=\"1\" class=\"dataframe\">\n",
       "  <thead>\n",
       "    <tr style=\"text-align: right;\">\n",
       "      <th></th>\n",
       "      <th>name</th>\n",
       "      <th>host_name</th>\n",
       "      <th>host_location</th>\n",
       "      <th>host_response_rate</th>\n",
       "      <th>host_is_superhost</th>\n",
       "    </tr>\n",
       "  </thead>\n",
       "  <tbody>\n",
       "    <tr>\n",
       "      <th>count</th>\n",
       "      <td>11312</td>\n",
       "      <td>11307</td>\n",
       "      <td>11303</td>\n",
       "      <td>5588</td>\n",
       "      <td>11307</td>\n",
       "    </tr>\n",
       "    <tr>\n",
       "      <th>unique</th>\n",
       "      <td>11171</td>\n",
       "      <td>4032</td>\n",
       "      <td>293</td>\n",
       "      <td>65</td>\n",
       "      <td>2</td>\n",
       "    </tr>\n",
       "    <tr>\n",
       "      <th>top</th>\n",
       "      <td>Private room in a shared hostel suite downtown</td>\n",
       "      <td>David</td>\n",
       "      <td>Toronto, Ontario, Canada</td>\n",
       "      <td>100</td>\n",
       "      <td>f</td>\n",
       "    </tr>\n",
       "    <tr>\n",
       "      <th>freq</th>\n",
       "      <td>8</td>\n",
       "      <td>89</td>\n",
       "      <td>8769</td>\n",
       "      <td>3716</td>\n",
       "      <td>8249</td>\n",
       "    </tr>\n",
       "  </tbody>\n",
       "</table>\n",
       "</div>"
      ],
      "text/plain": [
       "                                                  name host_name  \\\n",
       "count                                            11312     11307   \n",
       "unique                                           11171      4032   \n",
       "top     Private room in a shared hostel suite downtown     David   \n",
       "freq                                                 8        89   \n",
       "\n",
       "                   host_location host_response_rate host_is_superhost  \n",
       "count                      11303               5588             11307  \n",
       "unique                       293                 65                 2  \n",
       "top     Toronto, Ontario, Canada                100                 f  \n",
       "freq                        8769               3716              8249  "
      ]
     },
     "execution_count": 41,
     "metadata": {},
     "output_type": "execute_result"
    }
   ],
   "source": [
    "train_df.iloc[:, 0:10].describe(include = \"O\")"
   ]
  },
  {
   "cell_type": "code",
   "execution_count": 42,
   "metadata": {},
   "outputs": [
    {
     "name": "stderr",
     "output_type": "stream",
     "text": [
      "C:\\Users\\j2445wan\\AppData\\Local\\Temp\\16\\ipykernel_15928\\914331314.py:2: SettingWithCopyWarning: \n",
      "A value is trying to be set on a copy of a slice from a DataFrame.\n",
      "Try using .loc[row_indexer,col_indexer] = value instead\n",
      "\n",
      "See the caveats in the documentation: https://pandas.pydata.org/pandas-docs/stable/user_guide/indexing.html#returning-a-view-versus-a-copy\n",
      "  train_df.id = str(train_df.id)\n",
      "C:\\Users\\j2445wan\\AppData\\Local\\Temp\\16\\ipykernel_15928\\914331314.py:3: SettingWithCopyWarning: \n",
      "A value is trying to be set on a copy of a slice from a DataFrame.\n",
      "Try using .loc[row_indexer,col_indexer] = value instead\n",
      "\n",
      "See the caveats in the documentation: https://pandas.pydata.org/pandas-docs/stable/user_guide/indexing.html#returning-a-view-versus-a-copy\n",
      "  train_df.host_id = str(train_df.host_id)\n"
     ]
    }
   ],
   "source": [
    "## Convert id and host id int numerical values\n",
    "train_df.id = str(train_df.id)\n",
    "train_df.host_id = str(train_df.host_id)"
   ]
  },
  {
   "cell_type": "code",
   "execution_count": 46,
   "metadata": {},
   "outputs": [
    {
     "data": {
      "text/html": [
       "<div>\n",
       "<style scoped>\n",
       "    .dataframe tbody tr th:only-of-type {\n",
       "        vertical-align: middle;\n",
       "    }\n",
       "\n",
       "    .dataframe tbody tr th {\n",
       "        vertical-align: top;\n",
       "    }\n",
       "\n",
       "    .dataframe thead th {\n",
       "        text-align: right;\n",
       "    }\n",
       "</style>\n",
       "<table border=\"1\" class=\"dataframe\">\n",
       "  <thead>\n",
       "    <tr style=\"text-align: right;\">\n",
       "      <th></th>\n",
       "      <th>id</th>\n",
       "      <th>name</th>\n",
       "      <th>host_id</th>\n",
       "      <th>host_name</th>\n",
       "      <th>host_location</th>\n",
       "      <th>host_response_rate</th>\n",
       "      <th>host_is_superhost</th>\n",
       "      <th>host_neighbourhood</th>\n",
       "    </tr>\n",
       "  </thead>\n",
       "  <tbody>\n",
       "    <tr>\n",
       "      <th>count</th>\n",
       "      <td>11313</td>\n",
       "      <td>11312</td>\n",
       "      <td>11313</td>\n",
       "      <td>11307</td>\n",
       "      <td>11303</td>\n",
       "      <td>5588</td>\n",
       "      <td>11307</td>\n",
       "      <td>9706</td>\n",
       "    </tr>\n",
       "    <tr>\n",
       "      <th>unique</th>\n",
       "      <td>1</td>\n",
       "      <td>11171</td>\n",
       "      <td>1</td>\n",
       "      <td>4032</td>\n",
       "      <td>293</td>\n",
       "      <td>65</td>\n",
       "      <td>2</td>\n",
       "      <td>165</td>\n",
       "    </tr>\n",
       "    <tr>\n",
       "      <th>top</th>\n",
       "      <td>0            1419\\n1            8077\\n2       ...</td>\n",
       "      <td>Private room in a shared hostel suite downtown</td>\n",
       "      <td>0             1565\\n1            22795\\n2     ...</td>\n",
       "      <td>David</td>\n",
       "      <td>Toronto, Ontario, Canada</td>\n",
       "      <td>100</td>\n",
       "      <td>f</td>\n",
       "      <td>Downtown Toronto</td>\n",
       "    </tr>\n",
       "    <tr>\n",
       "      <th>freq</th>\n",
       "      <td>11313</td>\n",
       "      <td>8</td>\n",
       "      <td>11313</td>\n",
       "      <td>89</td>\n",
       "      <td>8769</td>\n",
       "      <td>3716</td>\n",
       "      <td>8249</td>\n",
       "      <td>1128</td>\n",
       "    </tr>\n",
       "  </tbody>\n",
       "</table>\n",
       "</div>"
      ],
      "text/plain": [
       "                                                       id  \\\n",
       "count                                               11313   \n",
       "unique                                                  1   \n",
       "top     0            1419\\n1            8077\\n2       ...   \n",
       "freq                                                11313   \n",
       "\n",
       "                                                  name  \\\n",
       "count                                            11312   \n",
       "unique                                           11171   \n",
       "top     Private room in a shared hostel suite downtown   \n",
       "freq                                                 8   \n",
       "\n",
       "                                                  host_id host_name  \\\n",
       "count                                               11313     11307   \n",
       "unique                                                  1      4032   \n",
       "top     0             1565\\n1            22795\\n2     ...     David   \n",
       "freq                                                11313        89   \n",
       "\n",
       "                   host_location host_response_rate host_is_superhost  \\\n",
       "count                      11303               5588             11307   \n",
       "unique                       293                 65                 2   \n",
       "top     Toronto, Ontario, Canada                100                 f   \n",
       "freq                        8769               3716              8249   \n",
       "\n",
       "       host_neighbourhood  \n",
       "count                9706  \n",
       "unique                165  \n",
       "top      Downtown Toronto  \n",
       "freq                 1128  "
      ]
     },
     "execution_count": 46,
     "metadata": {},
     "output_type": "execute_result"
    }
   ],
   "source": [
    "train_df.iloc[:, :11].describe(include = \"O\")"
   ]
  },
  {
   "cell_type": "markdown",
   "metadata": {},
   "source": [
    "The first 10 columns are finished describing and correcting.\n",
    "\n",
    "### Correcting object-values columns in 11th to 20th columns"
   ]
  },
  {
   "cell_type": "code",
   "execution_count": 47,
   "metadata": {},
   "outputs": [
    {
     "data": {
      "text/html": [
       "<div>\n",
       "<style scoped>\n",
       "    .dataframe tbody tr th:only-of-type {\n",
       "        vertical-align: middle;\n",
       "    }\n",
       "\n",
       "    .dataframe tbody tr th {\n",
       "        vertical-align: top;\n",
       "    }\n",
       "\n",
       "    .dataframe thead th {\n",
       "        text-align: right;\n",
       "    }\n",
       "</style>\n",
       "<table border=\"1\" class=\"dataframe\">\n",
       "  <thead>\n",
       "    <tr style=\"text-align: right;\">\n",
       "      <th></th>\n",
       "      <th>host_verifications</th>\n",
       "      <th>host_has_profile_pic</th>\n",
       "      <th>host_identity_verified</th>\n",
       "      <th>neighbourhood_cleansed</th>\n",
       "      <th>property_type</th>\n",
       "      <th>room_type</th>\n",
       "      <th>bathrooms_text</th>\n",
       "    </tr>\n",
       "  </thead>\n",
       "  <tbody>\n",
       "    <tr>\n",
       "      <th>count</th>\n",
       "      <td>11313</td>\n",
       "      <td>11307</td>\n",
       "      <td>11307</td>\n",
       "      <td>11313</td>\n",
       "      <td>11313</td>\n",
       "      <td>11313</td>\n",
       "      <td>11306</td>\n",
       "    </tr>\n",
       "    <tr>\n",
       "      <th>unique</th>\n",
       "      <td>324</td>\n",
       "      <td>2</td>\n",
       "      <td>2</td>\n",
       "      <td>140</td>\n",
       "      <td>58</td>\n",
       "      <td>4</td>\n",
       "      <td>25</td>\n",
       "    </tr>\n",
       "    <tr>\n",
       "      <th>top</th>\n",
       "      <td>['email', 'phone']</td>\n",
       "      <td>t</td>\n",
       "      <td>t</td>\n",
       "      <td>Waterfront Communities-The Island</td>\n",
       "      <td>Entire rental unit</td>\n",
       "      <td>Entire home/apt</td>\n",
       "      <td>1 bath</td>\n",
       "    </tr>\n",
       "    <tr>\n",
       "      <th>freq</th>\n",
       "      <td>1110</td>\n",
       "      <td>11273</td>\n",
       "      <td>9028</td>\n",
       "      <td>1771</td>\n",
       "      <td>2534</td>\n",
       "      <td>7333</td>\n",
       "      <td>5819</td>\n",
       "    </tr>\n",
       "  </tbody>\n",
       "</table>\n",
       "</div>"
      ],
      "text/plain": [
       "        host_verifications host_has_profile_pic host_identity_verified  \\\n",
       "count                11313                11307                  11307   \n",
       "unique                 324                    2                      2   \n",
       "top     ['email', 'phone']                    t                      t   \n",
       "freq                  1110                11273                   9028   \n",
       "\n",
       "                   neighbourhood_cleansed       property_type  \\\n",
       "count                               11313               11313   \n",
       "unique                                140                  58   \n",
       "top     Waterfront Communities-The Island  Entire rental unit   \n",
       "freq                                 1771                2534   \n",
       "\n",
       "              room_type bathrooms_text  \n",
       "count             11313          11306  \n",
       "unique                4             25  \n",
       "top     Entire home/apt         1 bath  \n",
       "freq               7333           5819  "
      ]
     },
     "execution_count": 47,
     "metadata": {},
     "output_type": "execute_result"
    }
   ],
   "source": [
    "train_df.iloc[:, 11:21].describe(include = \"O\")"
   ]
  },
  {
   "cell_type": "code",
   "execution_count": 52,
   "metadata": {},
   "outputs": [
    {
     "data": {
      "text/html": [
       "<div>\n",
       "<style scoped>\n",
       "    .dataframe tbody tr th:only-of-type {\n",
       "        vertical-align: middle;\n",
       "    }\n",
       "\n",
       "    .dataframe tbody tr th {\n",
       "        vertical-align: top;\n",
       "    }\n",
       "\n",
       "    .dataframe thead th {\n",
       "        text-align: right;\n",
       "    }\n",
       "</style>\n",
       "<table border=\"1\" class=\"dataframe\">\n",
       "  <thead>\n",
       "    <tr style=\"text-align: right;\">\n",
       "      <th></th>\n",
       "      <th>host_listings_count</th>\n",
       "      <th>host_total_listings_count</th>\n",
       "      <th>accommodates</th>\n",
       "    </tr>\n",
       "  </thead>\n",
       "  <tbody>\n",
       "    <tr>\n",
       "      <th>count</th>\n",
       "      <td>11307.000000</td>\n",
       "      <td>11307.000000</td>\n",
       "      <td>11313.000000</td>\n",
       "    </tr>\n",
       "    <tr>\n",
       "      <th>mean</th>\n",
       "      <td>4.921818</td>\n",
       "      <td>4.921818</td>\n",
       "      <td>3.029966</td>\n",
       "    </tr>\n",
       "    <tr>\n",
       "      <th>std</th>\n",
       "      <td>16.455443</td>\n",
       "      <td>16.455443</td>\n",
       "      <td>1.966904</td>\n",
       "    </tr>\n",
       "    <tr>\n",
       "      <th>min</th>\n",
       "      <td>0.000000</td>\n",
       "      <td>0.000000</td>\n",
       "      <td>1.000000</td>\n",
       "    </tr>\n",
       "    <tr>\n",
       "      <th>25%</th>\n",
       "      <td>1.000000</td>\n",
       "      <td>1.000000</td>\n",
       "      <td>2.000000</td>\n",
       "    </tr>\n",
       "    <tr>\n",
       "      <th>50%</th>\n",
       "      <td>1.000000</td>\n",
       "      <td>1.000000</td>\n",
       "      <td>2.000000</td>\n",
       "    </tr>\n",
       "    <tr>\n",
       "      <th>75%</th>\n",
       "      <td>3.000000</td>\n",
       "      <td>3.000000</td>\n",
       "      <td>4.000000</td>\n",
       "    </tr>\n",
       "    <tr>\n",
       "      <th>max</th>\n",
       "      <td>272.000000</td>\n",
       "      <td>272.000000</td>\n",
       "      <td>16.000000</td>\n",
       "    </tr>\n",
       "  </tbody>\n",
       "</table>\n",
       "</div>"
      ],
      "text/plain": [
       "       host_listings_count  host_total_listings_count  accommodates\n",
       "count         11307.000000               11307.000000  11313.000000\n",
       "mean              4.921818                   4.921818      3.029966\n",
       "std              16.455443                  16.455443      1.966904\n",
       "min               0.000000                   0.000000      1.000000\n",
       "25%               1.000000                   1.000000      2.000000\n",
       "50%               1.000000                   1.000000      2.000000\n",
       "75%               3.000000                   3.000000      4.000000\n",
       "max             272.000000                 272.000000     16.000000"
      ]
     },
     "execution_count": 52,
     "metadata": {},
     "output_type": "execute_result"
    }
   ],
   "source": [
    "train_df.iloc[:, 11:21].describe()"
   ]
  },
  {
   "cell_type": "code",
   "execution_count": 57,
   "metadata": {},
   "outputs": [
    {
     "name": "stderr",
     "output_type": "stream",
     "text": [
      "C:\\Users\\j2445wan\\AppData\\Local\\Temp\\16\\ipykernel_15928\\3114425403.py:1: SettingWithCopyWarning: \n",
      "A value is trying to be set on a copy of a slice from a DataFrame.\n",
      "Try using .loc[row_indexer,col_indexer] = value instead\n",
      "\n",
      "See the caveats in the documentation: https://pandas.pydata.org/pandas-docs/stable/user_guide/indexing.html#returning-a-view-versus-a-copy\n",
      "  train_df[\"verify_by_email\"] = \\\n",
      "C:\\Users\\j2445wan\\AppData\\Local\\Temp\\16\\ipykernel_15928\\3114425403.py:4: SettingWithCopyWarning: \n",
      "A value is trying to be set on a copy of a slice from a DataFrame.\n",
      "Try using .loc[row_indexer,col_indexer] = value instead\n",
      "\n",
      "See the caveats in the documentation: https://pandas.pydata.org/pandas-docs/stable/user_guide/indexing.html#returning-a-view-versus-a-copy\n",
      "  train_df[\"verify_by_phone\"] = \\\n",
      "C:\\Users\\j2445wan\\AppData\\Local\\Temp\\16\\ipykernel_15928\\3114425403.py:7: SettingWithCopyWarning: \n",
      "A value is trying to be set on a copy of a slice from a DataFrame.\n",
      "Try using .loc[row_indexer,col_indexer] = value instead\n",
      "\n",
      "See the caveats in the documentation: https://pandas.pydata.org/pandas-docs/stable/user_guide/indexing.html#returning-a-view-versus-a-copy\n",
      "  train_df[\"verify_by_gov_id\"] = \\\n",
      "C:\\Users\\j2445wan\\AppData\\Local\\Temp\\16\\ipykernel_15928\\3114425403.py:10: SettingWithCopyWarning: \n",
      "A value is trying to be set on a copy of a slice from a DataFrame.\n",
      "Try using .loc[row_indexer,col_indexer] = value instead\n",
      "\n",
      "See the caveats in the documentation: https://pandas.pydata.org/pandas-docs/stable/user_guide/indexing.html#returning-a-view-versus-a-copy\n",
      "  train_df[\"verify_by_work_email\"] = \\\n",
      "C:\\Users\\j2445wan\\AppData\\Local\\Temp\\16\\ipykernel_15928\\3114425403.py:13: SettingWithCopyWarning: \n",
      "A value is trying to be set on a copy of a slice from a DataFrame.\n",
      "Try using .loc[row_indexer,col_indexer] = value instead\n",
      "\n",
      "See the caveats in the documentation: https://pandas.pydata.org/pandas-docs/stable/user_guide/indexing.html#returning-a-view-versus-a-copy\n",
      "  train_df[\"verify_by_identity_manual\"] = \\\n",
      "C:\\Users\\j2445wan\\AppData\\Local\\Temp\\16\\ipykernel_15928\\3114425403.py:16: SettingWithCopyWarning: \n",
      "A value is trying to be set on a copy of a slice from a DataFrame.\n",
      "Try using .loc[row_indexer,col_indexer] = value instead\n",
      "\n",
      "See the caveats in the documentation: https://pandas.pydata.org/pandas-docs/stable/user_guide/indexing.html#returning-a-view-versus-a-copy\n",
      "  train_df[\"verify_by_reviews\"] = \\\n"
     ]
    }
   ],
   "source": [
    "train_df[\"verify_by_email\"] = \\\n",
    "    train_df.host_verifications.str.contains(\"email\")\n",
    "\n",
    "train_df[\"verify_by_phone\"] = \\\n",
    "    train_df.host_verifications.str.contains(\"phone\")\n",
    "\n",
    "train_df[\"verify_by_gov_id\"] = \\\n",
    "    train_df.host_verifications.str.contains(\"government_id\")\n",
    "\n",
    "train_df[\"verify_by_work_email\"] = \\\n",
    "    train_df.host_verifications.str.contains(\"work_email\")\n",
    "\n",
    "train_df[\"verify_by_identity_manual\"] = \\\n",
    "    train_df.host_verifications.str.contains(\"identity_manual\")\n",
    "\n",
    "train_df[\"verify_by_reviews\"] = \\\n",
    "    train_df.host_verifications.str.contains(\"identity_reviews\")"
   ]
  },
  {
   "cell_type": "code",
   "execution_count": 87,
   "metadata": {},
   "outputs": [
    {
     "data": {
      "text/plain": [
       "10    [['email',, 'phone',, 'reviews',, 'jumio',, 'g...\n",
       "11    [['email',, 'phone',, 'reviews',, 'jumio',, 'g...\n",
       "12    [['email',, 'phone',, 'reviews',, 'jumio',, 'g...\n",
       "13    [['email',, 'phone',, 'reviews',, 'jumio',, 'g...\n",
       "14    [['email',, 'phone',, 'reviews',, 'jumio',, 'g...\n",
       "15                    [['email',, 'phone',, 'reviews']]\n",
       "16    [['email',, 'phone',, 'reviews',, 'jumio',, 'g...\n",
       "17    [['email',, 'phone',, 'reviews',, 'jumio',, 'g...\n",
       "18    [['email',, 'phone',, 'reviews',, 'jumio',, 'g...\n",
       "19    [['email',, 'phone',, 'reviews',, 'jumio',, 'g...\n",
       "Name: host_verifications, dtype: object"
      ]
     },
     "execution_count": 87,
     "metadata": {},
     "output_type": "execute_result"
    }
   ],
   "source": [
    "train_df.host_verifications.explode().str.split()[10:20]"
   ]
  },
  {
   "cell_type": "code",
   "execution_count": 95,
   "metadata": {},
   "outputs": [
    {
     "name": "stderr",
     "output_type": "stream",
     "text": [
      "C:\\Users\\j2445wan\\AppData\\Local\\Temp\\16\\ipykernel_15928\\668888840.py:1: SettingWithCopyWarning: \n",
      "A value is trying to be set on a copy of a slice from a DataFrame.\n",
      "Try using .loc[row_indexer,col_indexer] = value instead\n",
      "\n",
      "See the caveats in the documentation: https://pandas.pydata.org/pandas-docs/stable/user_guide/indexing.html#returning-a-view-versus-a-copy\n",
      "  train_df.host_verifications = \\\n"
     ]
    }
   ],
   "source": [
    "train_df.host_verifications = \\\n",
    "    train_df.host_verifications.str.lstrip(\"[\").str.rstrip(\"]\")"
   ]
  },
  {
   "cell_type": "code",
   "execution_count": 99,
   "metadata": {},
   "outputs": [],
   "source": [
    "train_df.veri_counts = train_df.host_verifications.str.split(\",\").apply(len)"
   ]
  },
  {
   "cell_type": "code",
   "execution_count": 100,
   "metadata": {},
   "outputs": [
    {
     "data": {
      "text/plain": [
       "0        5\n",
       "1        4\n",
       "2        7\n",
       "3        7\n",
       "4        7\n",
       "        ..\n",
       "11308    5\n",
       "11309    6\n",
       "11310    5\n",
       "11311    4\n",
       "11312    2\n",
       "Name: host_verifications, Length: 11313, dtype: int64"
      ]
     },
     "execution_count": 100,
     "metadata": {},
     "output_type": "execute_result"
    }
   ],
   "source": [
    "train_df.veri_counts"
   ]
  },
  {
   "cell_type": "code",
   "execution_count": 103,
   "metadata": {},
   "outputs": [
    {
     "name": "stderr",
     "output_type": "stream",
     "text": [
      "C:\\Users\\j2445wan\\AppData\\Local\\Temp\\16\\ipykernel_15928\\3929776751.py:1: SettingWithCopyWarning: \n",
      "A value is trying to be set on a copy of a slice from a DataFrame\n",
      "\n",
      "See the caveats in the documentation: https://pandas.pydata.org/pandas-docs/stable/user_guide/indexing.html#returning-a-view-versus-a-copy\n",
      "  train_df.drop(\"host_verifications\", axis = 1, inplace = True)\n"
     ]
    }
   ],
   "source": [
    "train_df.drop(\"host_verifications\", axis = 1, inplace = True)"
   ]
  },
  {
   "cell_type": "code",
   "execution_count": 111,
   "metadata": {},
   "outputs": [
    {
     "name": "stdout",
     "output_type": "stream",
     "text": [
      "['host_is_superhost', 'host_has_profile_pic', 'host_identity_verified', 'instant_bookable']\n"
     ]
    }
   ],
   "source": [
    "# Replace all columns with \"t\" and \"f\" by boolean values\n",
    "bool_col_list = []\n",
    "for col in train_df.columns:\n",
    "    # print(col)\n",
    "    if train_df[col].dtype == \"object\":\n",
    "        t_equal_value = train_df[col].str.fullmatch(r\"^t$\")\n",
    "        if t_equal_value.any():\n",
    "            bool_col_list.append(col)\n",
    "\n",
    "print(bool_col_list)"
   ]
  },
  {
   "cell_type": "code",
   "execution_count": 116,
   "metadata": {},
   "outputs": [
    {
     "name": "stderr",
     "output_type": "stream",
     "text": [
      "C:\\Users\\j2445wan\\AppData\\Local\\Temp\\16\\ipykernel_15928\\41747146.py:2: SettingWithCopyWarning: \n",
      "A value is trying to be set on a copy of a slice from a DataFrame.\n",
      "Try using .loc[row_indexer,col_indexer] = value instead\n",
      "\n",
      "See the caveats in the documentation: https://pandas.pydata.org/pandas-docs/stable/user_guide/indexing.html#returning-a-view-versus-a-copy\n",
      "  train_df[name] = train_df[name].map({\"t\": True, \"f\": False}).astype(bool)\n",
      "C:\\Users\\j2445wan\\AppData\\Local\\Temp\\16\\ipykernel_15928\\41747146.py:2: SettingWithCopyWarning: \n",
      "A value is trying to be set on a copy of a slice from a DataFrame.\n",
      "Try using .loc[row_indexer,col_indexer] = value instead\n",
      "\n",
      "See the caveats in the documentation: https://pandas.pydata.org/pandas-docs/stable/user_guide/indexing.html#returning-a-view-versus-a-copy\n",
      "  train_df[name] = train_df[name].map({\"t\": True, \"f\": False}).astype(bool)\n",
      "C:\\Users\\j2445wan\\AppData\\Local\\Temp\\16\\ipykernel_15928\\41747146.py:2: SettingWithCopyWarning: \n",
      "A value is trying to be set on a copy of a slice from a DataFrame.\n",
      "Try using .loc[row_indexer,col_indexer] = value instead\n",
      "\n",
      "See the caveats in the documentation: https://pandas.pydata.org/pandas-docs/stable/user_guide/indexing.html#returning-a-view-versus-a-copy\n",
      "  train_df[name] = train_df[name].map({\"t\": True, \"f\": False}).astype(bool)\n",
      "C:\\Users\\j2445wan\\AppData\\Local\\Temp\\16\\ipykernel_15928\\41747146.py:2: SettingWithCopyWarning: \n",
      "A value is trying to be set on a copy of a slice from a DataFrame.\n",
      "Try using .loc[row_indexer,col_indexer] = value instead\n",
      "\n",
      "See the caveats in the documentation: https://pandas.pydata.org/pandas-docs/stable/user_guide/indexing.html#returning-a-view-versus-a-copy\n",
      "  train_df[name] = train_df[name].map({\"t\": True, \"f\": False}).astype(bool)\n"
     ]
    },
    {
     "data": {
      "text/html": [
       "<div>\n",
       "<style scoped>\n",
       "    .dataframe tbody tr th:only-of-type {\n",
       "        vertical-align: middle;\n",
       "    }\n",
       "\n",
       "    .dataframe tbody tr th {\n",
       "        vertical-align: top;\n",
       "    }\n",
       "\n",
       "    .dataframe thead th {\n",
       "        text-align: right;\n",
       "    }\n",
       "</style>\n",
       "<table border=\"1\" class=\"dataframe\">\n",
       "  <thead>\n",
       "    <tr style=\"text-align: right;\">\n",
       "      <th></th>\n",
       "      <th>host_is_superhost</th>\n",
       "      <th>host_has_profile_pic</th>\n",
       "      <th>host_identity_verified</th>\n",
       "      <th>instant_bookable</th>\n",
       "    </tr>\n",
       "  </thead>\n",
       "  <tbody>\n",
       "    <tr>\n",
       "      <th>count</th>\n",
       "      <td>11313</td>\n",
       "      <td>11313</td>\n",
       "      <td>11313</td>\n",
       "      <td>11313</td>\n",
       "    </tr>\n",
       "    <tr>\n",
       "      <th>unique</th>\n",
       "      <td>2</td>\n",
       "      <td>2</td>\n",
       "      <td>2</td>\n",
       "      <td>2</td>\n",
       "    </tr>\n",
       "    <tr>\n",
       "      <th>top</th>\n",
       "      <td>False</td>\n",
       "      <td>True</td>\n",
       "      <td>True</td>\n",
       "      <td>False</td>\n",
       "    </tr>\n",
       "    <tr>\n",
       "      <th>freq</th>\n",
       "      <td>8249</td>\n",
       "      <td>11279</td>\n",
       "      <td>9034</td>\n",
       "      <td>8580</td>\n",
       "    </tr>\n",
       "  </tbody>\n",
       "</table>\n",
       "</div>"
      ],
      "text/plain": [
       "       host_is_superhost host_has_profile_pic host_identity_verified  \\\n",
       "count              11313                11313                  11313   \n",
       "unique                 2                    2                      2   \n",
       "top                False                 True                   True   \n",
       "freq                8249                11279                   9034   \n",
       "\n",
       "       instant_bookable  \n",
       "count             11313  \n",
       "unique                2  \n",
       "top               False  \n",
       "freq               8580  "
      ]
     },
     "execution_count": 116,
     "metadata": {},
     "output_type": "execute_result"
    }
   ],
   "source": [
    "for name in bool_col_list:\n",
    "    train_df[name] = train_df[name].map({\"t\": True, \"f\": False}).astype(bool)\n",
    "\n",
    "train_df[bool_col_list].describe()"
   ]
  },
  {
   "cell_type": "code",
   "execution_count": 109,
   "metadata": {},
   "outputs": [
    {
     "data": {
      "text/plain": [
       "0        t\n",
       "1        f\n",
       "2        t\n",
       "3        t\n",
       "4        t\n",
       "        ..\n",
       "11308    t\n",
       "11309    t\n",
       "11310    t\n",
       "11311    t\n",
       "11312    f\n",
       "Name: host_identity_verified, Length: 11313, dtype: object"
      ]
     },
     "execution_count": 109,
     "metadata": {},
     "output_type": "execute_result"
    }
   ],
   "source": []
  }
 ],
 "metadata": {
  "kernelspec": {
   "display_name": "Python 3.10.6 64-bit",
   "language": "python",
   "name": "python3"
  },
  "language_info": {
   "codemirror_mode": {
    "name": "ipython",
    "version": 3
   },
   "file_extension": ".py",
   "mimetype": "text/x-python",
   "name": "python",
   "nbconvert_exporter": "python",
   "pygments_lexer": "ipython3",
   "version": "3.10.6"
  },
  "orig_nbformat": 4,
  "vscode": {
   "interpreter": {
    "hash": "26de051ba29f2982a8de78e945f0abaf191376122a1563185a90213a26c5da77"
   }
  }
 },
 "nbformat": 4,
 "nbformat_minor": 2
}
