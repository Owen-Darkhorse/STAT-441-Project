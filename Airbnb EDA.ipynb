{
 "cells": [
  {
   "cell_type": "markdown",
   "metadata": {},
   "source": [
    "# EDA on Airbnb Listings in Toronto\n",
    "The research interest lines in what makes a good Airbnb listing in Toronto"
   ]
  },
  {
   "cell_type": "code",
   "execution_count": 75,
   "metadata": {},
   "outputs": [],
   "source": [
    "import pandas as pd\n",
    "import numpy as np\n",
    "import matplotlib.pyplot as plt\n",
    "import seaborn as sns\n",
    "from datetime import datetime"
   ]
  },
  {
   "cell_type": "code",
   "execution_count": 3,
   "metadata": {},
   "outputs": [
    {
     "data": {
      "text/plain": [
       "74"
      ]
     },
     "execution_count": 3,
     "metadata": {},
     "output_type": "execute_result"
    }
   ],
   "source": [
    "listings = pd.read_csv(\"listings.csv\")\n",
    "row, col = listings.shape\n",
    "row\n",
    "col"
   ]
  },
  {
   "cell_type": "code",
   "execution_count": 4,
   "metadata": {},
   "outputs": [
    {
     "data": {
      "text/plain": [
       "(11313, 15083)"
      ]
     },
     "execution_count": 4,
     "metadata": {},
     "output_type": "execute_result"
    }
   ],
   "source": [
    "# Split training and testing dataset\n",
    "train_index_end = int(row*0.75)\n",
    "train_indx = np.arange(train_index_end)\n",
    "test_indx = np.arange(train_index_end+1, row)\n",
    "train_index_end, test_indx[-1]"
   ]
  },
  {
   "cell_type": "code",
   "execution_count": 5,
   "metadata": {},
   "outputs": [],
   "source": [
    "train_df = listings.iloc[train_indx]\n",
    "test_df = listings.iloc[test_indx]"
   ]
  },
  {
   "cell_type": "code",
   "execution_count": 6,
   "metadata": {},
   "outputs": [
    {
     "data": {
      "text/plain": [
       "(11313, 74)"
      ]
     },
     "execution_count": 6,
     "metadata": {},
     "output_type": "execute_result"
    }
   ],
   "source": [
    "train_df.shape"
   ]
  },
  {
   "cell_type": "code",
   "execution_count": 7,
   "metadata": {},
   "outputs": [
    {
     "data": {
      "text/plain": [
       "Index(['id', 'listing_url', 'scrape_id', 'last_scraped', 'name', 'description',\n",
       "       'neighborhood_overview', 'picture_url', 'host_id', 'host_url',\n",
       "       'host_name', 'host_since', 'host_location', 'host_about',\n",
       "       'host_response_time', 'host_response_rate', 'host_acceptance_rate',\n",
       "       'host_is_superhost', 'host_thumbnail_url', 'host_picture_url',\n",
       "       'host_neighbourhood', 'host_listings_count',\n",
       "       'host_total_listings_count', 'host_verifications',\n",
       "       'host_has_profile_pic', 'host_identity_verified', 'neighbourhood',\n",
       "       'neighbourhood_cleansed', 'neighbourhood_group_cleansed', 'latitude',\n",
       "       'longitude', 'property_type', 'room_type', 'accommodates', 'bathrooms',\n",
       "       'bathrooms_text', 'bedrooms', 'beds', 'amenities', 'price',\n",
       "       'minimum_nights', 'maximum_nights', 'minimum_minimum_nights',\n",
       "       'maximum_minimum_nights', 'minimum_maximum_nights',\n",
       "       'maximum_maximum_nights', 'minimum_nights_avg_ntm',\n",
       "       'maximum_nights_avg_ntm', 'calendar_updated', 'has_availability',\n",
       "       'availability_30', 'availability_60', 'availability_90',\n",
       "       'availability_365', 'calendar_last_scraped', 'number_of_reviews',\n",
       "       'number_of_reviews_ltm', 'number_of_reviews_l30d', 'first_review',\n",
       "       'last_review', 'review_scores_rating', 'review_scores_accuracy',\n",
       "       'review_scores_cleanliness', 'review_scores_checkin',\n",
       "       'review_scores_communication', 'review_scores_location',\n",
       "       'review_scores_value', 'license', 'instant_bookable',\n",
       "       'calculated_host_listings_count',\n",
       "       'calculated_host_listings_count_entire_homes',\n",
       "       'calculated_host_listings_count_private_rooms',\n",
       "       'calculated_host_listings_count_shared_rooms', 'reviews_per_month'],\n",
       "      dtype='object')"
      ]
     },
     "execution_count": 7,
     "metadata": {},
     "output_type": "execute_result"
    }
   ],
   "source": [
    "train_df.columns"
   ]
  },
  {
   "cell_type": "code",
   "execution_count": 8,
   "metadata": {},
   "outputs": [
    {
     "name": "stderr",
     "output_type": "stream",
     "text": [
      "C:\\Users\\wjx\\AppData\\Local\\Temp\\ipykernel_7028\\2812972004.py:13: SettingWithCopyWarning: \n",
      "A value is trying to be set on a copy of a slice from a DataFrame\n",
      "\n",
      "See the caveats in the documentation: https://pandas.pydata.org/pandas-docs/stable/user_guide/indexing.html#returning-a-view-versus-a-copy\n",
      "  train_df.drop(var_to_drop, inplace=True, axis = 1)\n"
     ]
    },
    {
     "data": {
      "text/plain": [
       "(11313, 50)"
      ]
     },
     "execution_count": 8,
     "metadata": {},
     "output_type": "execute_result"
    }
   ],
   "source": [
    "# Drop variables that are highly likely irrelevant or difficult to process\n",
    "var_to_drop = [\n",
    "       'listing_url', 'scrape_id', 'last_scraped', 'description',\n",
    "       'neighborhood_overview', 'picture_url', 'neighbourhood', 'latitude',\n",
    "       'longitude', 'minimum_nights', 'maximum_nights', 'minimum_minimum_nights',\n",
    "       'maximum_minimum_nights', 'minimum_maximum_nights',\n",
    "       'maximum_maximum_nights', 'minimum_nights_avg_ntm',\n",
    "       'maximum_nights_avg_ntm', 'calendar_updated', 'has_availability',\n",
    "       'availability_30', 'availability_60', 'availability_90',\n",
    "       'availability_365', 'calendar_last_scraped'      \n",
    "]\n",
    "\n",
    "train_df.drop(var_to_drop, inplace=True, axis = 1)\n",
    "train_df.shape"
   ]
  },
  {
   "cell_type": "markdown",
   "metadata": {},
   "source": [
    "## Get Data Type and Integrity Information"
   ]
  },
  {
   "cell_type": "code",
   "execution_count": 9,
   "metadata": {},
   "outputs": [
    {
     "name": "stdout",
     "output_type": "stream",
     "text": [
      "<class 'pandas.core.frame.DataFrame'>\n",
      "Int64Index: 11313 entries, 0 to 11312\n",
      "Data columns (total 10 columns):\n",
      " #   Column              Non-Null Count  Dtype \n",
      "---  ------              --------------  ----- \n",
      " 0   id                  11313 non-null  int64 \n",
      " 1   name                11312 non-null  object\n",
      " 2   host_id             11313 non-null  int64 \n",
      " 3   host_url            11313 non-null  object\n",
      " 4   host_name           11307 non-null  object\n",
      " 5   host_since          11307 non-null  object\n",
      " 6   host_location       11303 non-null  object\n",
      " 7   host_about          6587 non-null   object\n",
      " 8   host_response_time  5588 non-null   object\n",
      " 9   host_response_rate  5588 non-null   object\n",
      "dtypes: int64(2), object(8)\n",
      "memory usage: 972.2+ KB\n"
     ]
    }
   ],
   "source": [
    "train_df.iloc[:,0:10].info()"
   ]
  },
  {
   "cell_type": "markdown",
   "metadata": {},
   "source": [
    "* Name has one missing value\n",
    "* Neighbor overview has nearly 4000 missing values\n",
    "* IDs are integer valued"
   ]
  },
  {
   "cell_type": "code",
   "execution_count": 10,
   "metadata": {},
   "outputs": [
    {
     "name": "stdout",
     "output_type": "stream",
     "text": [
      "<class 'pandas.core.frame.DataFrame'>\n",
      "Int64Index: 11313 entries, 0 to 11312\n",
      "Data columns (total 10 columns):\n",
      " #   Column                     Non-Null Count  Dtype  \n",
      "---  ------                     --------------  -----  \n",
      " 0   host_acceptance_rate       5776 non-null   object \n",
      " 1   host_is_superhost          11307 non-null  object \n",
      " 2   host_thumbnail_url         11307 non-null  object \n",
      " 3   host_picture_url           11307 non-null  object \n",
      " 4   host_neighbourhood         9706 non-null   object \n",
      " 5   host_listings_count        11307 non-null  float64\n",
      " 6   host_total_listings_count  11307 non-null  float64\n",
      " 7   host_verifications         11313 non-null  object \n",
      " 8   host_has_profile_pic       11307 non-null  object \n",
      " 9   host_identity_verified     11307 non-null  object \n",
      "dtypes: float64(2), object(8)\n",
      "memory usage: 972.2+ KB\n"
     ]
    }
   ],
   "source": [
    "train_df.iloc[:,10:20].info()"
   ]
  },
  {
   "cell_type": "markdown",
   "metadata": {},
   "source": [
    "* All variables in this range have null values\n",
    "* host acceptance rate, neighborhood are the variables with the most missing values. Possibly they are not required to create a profile. \n",
    "* The other with no or just a few missing values.\n",
    "* Host verification is non-null, maybe every host need to be verified on ID\n",
    "* host_has_profile_pic should be boolean, is boolean object?\n",
    "* Many variables are url, for simplicity, **url will be removed**."
   ]
  },
  {
   "cell_type": "code",
   "execution_count": 11,
   "metadata": {},
   "outputs": [
    {
     "name": "stdout",
     "output_type": "stream",
     "text": [
      "<class 'pandas.core.frame.DataFrame'>\n",
      "Int64Index: 11313 entries, 0 to 11312\n",
      "Data columns (total 10 columns):\n",
      " #   Column                        Non-Null Count  Dtype  \n",
      "---  ------                        --------------  -----  \n",
      " 0   neighbourhood_cleansed        11313 non-null  object \n",
      " 1   neighbourhood_group_cleansed  0 non-null      float64\n",
      " 2   property_type                 11313 non-null  object \n",
      " 3   room_type                     11313 non-null  object \n",
      " 4   accommodates                  11313 non-null  int64  \n",
      " 5   bathrooms                     0 non-null      float64\n",
      " 6   bathrooms_text                11306 non-null  object \n",
      " 7   bedrooms                      10509 non-null  float64\n",
      " 8   beds                          11271 non-null  float64\n",
      " 9   amenities                     11313 non-null  object \n",
      "dtypes: float64(4), int64(1), object(5)\n",
      "memory usage: 972.2+ KB\n"
     ]
    }
   ],
   "source": [
    "train_df.iloc[:,20:30].info()"
   ]
  },
  {
   "cell_type": "markdown",
   "metadata": {},
   "source": [
    "* None of entries of neighbourhood group cleansed and bathrooms columns are populated with values. Remove them\n",
    "* The others have only a few null values, fill NA is not big problem"
   ]
  },
  {
   "cell_type": "code",
   "execution_count": 12,
   "metadata": {},
   "outputs": [
    {
     "name": "stdout",
     "output_type": "stream",
     "text": [
      "<class 'pandas.core.frame.DataFrame'>\n",
      "Int64Index: 11313 entries, 0 to 11312\n",
      "Data columns (total 10 columns):\n",
      " #   Column                     Non-Null Count  Dtype  \n",
      "---  ------                     --------------  -----  \n",
      " 0   price                      11313 non-null  object \n",
      " 1   number_of_reviews          11313 non-null  int64  \n",
      " 2   number_of_reviews_ltm      11313 non-null  int64  \n",
      " 3   number_of_reviews_l30d     11313 non-null  int64  \n",
      " 4   first_review               9501 non-null   object \n",
      " 5   last_review                9501 non-null   object \n",
      " 6   review_scores_rating       9501 non-null   float64\n",
      " 7   review_scores_accuracy     9330 non-null   float64\n",
      " 8   review_scores_cleanliness  9332 non-null   float64\n",
      " 9   review_scores_checkin      9329 non-null   float64\n",
      "dtypes: float64(4), int64(3), object(3)\n",
      "memory usage: 972.2+ KB\n"
     ]
    }
   ],
   "source": [
    "train_df.iloc[:,30:40].info()"
   ]
  },
  {
   "cell_type": "markdown",
   "metadata": {},
   "source": [
    "* From price to number of review in the last 30 days are non-null variables\n",
    "* The remaining have around 1500 missing values, they need completion \n",
    "* Price should be float or integer, but it is object, may be $ is included"
   ]
  },
  {
   "cell_type": "code",
   "execution_count": 13,
   "metadata": {},
   "outputs": [
    {
     "name": "stdout",
     "output_type": "stream",
     "text": [
      "<class 'pandas.core.frame.DataFrame'>\n",
      "Int64Index: 11313 entries, 0 to 11312\n",
      "Data columns (total 10 columns):\n",
      " #   Column                                        Non-Null Count  Dtype  \n",
      "---  ------                                        --------------  -----  \n",
      " 0   review_scores_communication                   9329 non-null   float64\n",
      " 1   review_scores_location                        9328 non-null   float64\n",
      " 2   review_scores_value                           9329 non-null   float64\n",
      " 3   license                                       2633 non-null   object \n",
      " 4   instant_bookable                              11313 non-null  object \n",
      " 5   calculated_host_listings_count                11313 non-null  int64  \n",
      " 6   calculated_host_listings_count_entire_homes   11313 non-null  int64  \n",
      " 7   calculated_host_listings_count_private_rooms  11313 non-null  int64  \n",
      " 8   calculated_host_listings_count_shared_rooms   11313 non-null  int64  \n",
      " 9   reviews_per_month                             9501 non-null   float64\n",
      "dtypes: float64(4), int64(4), object(2)\n",
      "memory usage: 972.2+ KB\n"
     ]
    }
   ],
   "source": [
    "train_df.iloc[:,40:50].info()"
   ]
  },
  {
   "cell_type": "markdown",
   "metadata": {},
   "source": [
    "* License hastoo many missing values, should remove license\n",
    "* Scores have around 1800 missing values\n",
    "* Different types of listing count have no null values"
   ]
  },
  {
   "cell_type": "markdown",
   "metadata": {},
   "source": [
    "### Decisions\n",
    "* Remove columns: neighbouhood group cleansed, bathrooms, license\n",
    "* Keep variables with non-null values as low as 5500, correlate them with good host. And use the correlation to impose the missing values\n",
    "* Remove variables with _url in their names\n",
    "* Convert multiple review scores into more synthesized score.\n",
    "* Host about might be a long paragraph of text which is difficult to process, we will leave it out"
   ]
  },
  {
   "cell_type": "markdown",
   "metadata": {},
   "source": [
    "#### Correcting by Removing Bad Data"
   ]
  },
  {
   "cell_type": "code",
   "execution_count": 14,
   "metadata": {},
   "outputs": [
    {
     "data": {
      "text/plain": [
       "['neighbourhood_group_cleansed',\n",
       " 'bathrooms',\n",
       " 'license',\n",
       " 'host_url',\n",
       " 'host_thumbnail_url',\n",
       " 'host_picture_url',\n",
       " 'host_about']"
      ]
     },
     "execution_count": 14,
     "metadata": {},
     "output_type": "execute_result"
    }
   ],
   "source": [
    "null_col = [\"neighbourhood_group_cleansed\", \"bathrooms\", \"license\"]\n",
    "url_col = list(filter(lambda x: \"_url\" in x, train_df.columns))\n",
    "col_to_remove = null_col + url_col + [\"host_about\"]\n",
    "col_to_remove"
   ]
  },
  {
   "cell_type": "code",
   "execution_count": 15,
   "metadata": {},
   "outputs": [
    {
     "name": "stderr",
     "output_type": "stream",
     "text": [
      "C:\\Users\\wjx\\AppData\\Local\\Temp\\ipykernel_7028\\1318187045.py:1: SettingWithCopyWarning: \n",
      "A value is trying to be set on a copy of a slice from a DataFrame\n",
      "\n",
      "See the caveats in the documentation: https://pandas.pydata.org/pandas-docs/stable/user_guide/indexing.html#returning-a-view-versus-a-copy\n",
      "  train_df.drop(col_to_remove, axis=1, inplace=True)\n"
     ]
    }
   ],
   "source": [
    "train_df.drop(col_to_remove, axis=1, inplace=True)"
   ]
  },
  {
   "cell_type": "code",
   "execution_count": 16,
   "metadata": {},
   "outputs": [
    {
     "data": {
      "text/plain": [
       "(11313, 43)"
      ]
     },
     "execution_count": 16,
     "metadata": {},
     "output_type": "execute_result"
    }
   ],
   "source": [
    "row, col = train_df.shape\n",
    "row, col"
   ]
  },
  {
   "cell_type": "markdown",
   "metadata": {},
   "source": [
    "#### Convert Price to Numerical Data"
   ]
  },
  {
   "cell_type": "code",
   "execution_count": 17,
   "metadata": {},
   "outputs": [
    {
     "data": {
      "text/plain": [
       "array(['$469.00', '$94.00', '$72.00', '$45.00', '$75.00', '$125.00',\n",
       "       '$100.00', '$70.00', '$70.00', '$130.00'], dtype=object)"
      ]
     },
     "execution_count": 17,
     "metadata": {},
     "output_type": "execute_result"
    }
   ],
   "source": [
    "train_df.price.head(10).values"
   ]
  },
  {
   "cell_type": "code",
   "execution_count": 18,
   "metadata": {},
   "outputs": [
    {
     "data": {
      "text/plain": [
       "0        469\n",
       "1         94\n",
       "2         72\n",
       "3         45\n",
       "4         75\n",
       "        ... \n",
       "11308     89\n",
       "11309     40\n",
       "11310     99\n",
       "11311    109\n",
       "11312     55\n",
       "Name: 0, Length: 11313, dtype: object"
      ]
     },
     "execution_count": 18,
     "metadata": {},
     "output_type": "execute_result"
    }
   ],
   "source": [
    "# Delete $ and convert to float64\n",
    "numerical_price = train_df.price.str.extract(r'(\\d+)\\.(\\d+)')\n",
    "numerical_price = numerical_price.loc[:, 0]\n",
    "numerical_price"
   ]
  },
  {
   "cell_type": "code",
   "execution_count": 19,
   "metadata": {},
   "outputs": [
    {
     "name": "stderr",
     "output_type": "stream",
     "text": [
      "C:\\Users\\wjx\\AppData\\Local\\Temp\\ipykernel_7028\\955045270.py:1: SettingWithCopyWarning: \n",
      "A value is trying to be set on a copy of a slice from a DataFrame.\n",
      "Try using .loc[row_indexer,col_indexer] = value instead\n",
      "\n",
      "See the caveats in the documentation: https://pandas.pydata.org/pandas-docs/stable/user_guide/indexing.html#returning-a-view-versus-a-copy\n",
      "  train_df.price = numerical_price\n"
     ]
    },
    {
     "data": {
      "text/plain": [
       "0        469\n",
       "1         94\n",
       "2         72\n",
       "3         45\n",
       "4         75\n",
       "        ... \n",
       "11308     89\n",
       "11309     40\n",
       "11310     99\n",
       "11311    109\n",
       "11312     55\n",
       "Name: price, Length: 11313, dtype: object"
      ]
     },
     "execution_count": 19,
     "metadata": {},
     "output_type": "execute_result"
    }
   ],
   "source": [
    "train_df.price = numerical_price\n",
    "train_df.price"
   ]
  },
  {
   "cell_type": "code",
   "execution_count": 20,
   "metadata": {},
   "outputs": [
    {
     "name": "stderr",
     "output_type": "stream",
     "text": [
      "C:\\Users\\wjx\\AppData\\Local\\Temp\\ipykernel_7028\\2929202183.py:2: SettingWithCopyWarning: \n",
      "A value is trying to be set on a copy of a slice from a DataFrame.\n",
      "Try using .loc[row_indexer,col_indexer] = value instead\n",
      "\n",
      "See the caveats in the documentation: https://pandas.pydata.org/pandas-docs/stable/user_guide/indexing.html#returning-a-view-versus-a-copy\n",
      "  train_df.price = train_df.price.astype('int64')\n"
     ]
    }
   ],
   "source": [
    "# Set type to integer\n",
    "train_df.price = train_df.price.astype('int64')"
   ]
  },
  {
   "cell_type": "markdown",
   "metadata": {},
   "source": [
    "#### Combining Scores into One Unified Metrics"
   ]
  },
  {
   "cell_type": "markdown",
   "metadata": {},
   "source": [
    "* Rating is the overall experience of travelers, assign 0.025\n",
    "* Cleaness is a big part, assign 0.2\n",
    "* Accuracy relates to faithful representation, assign 0.2\n",
    "* Communication relects attitude and warmth,  assign 0.15\n",
    "* Check-in shouldn't be a big problem in most places, assign 0.025\n",
    "* Value means cost-effectiveness, assign 0.2\n",
    "* Location affect safety, noise, and convenience, assign 0.2"
   ]
  },
  {
   "cell_type": "code",
   "execution_count": 23,
   "metadata": {},
   "outputs": [],
   "source": [
    "combine_score = (train_df.review_scores_rating*0.025 + \n",
    "train_df.review_scores_accuracy*0.2 + \n",
    "train_df.review_scores_cleanliness*0.2 + \n",
    "train_df.review_scores_checkin*0.05 + \n",
    "train_df.review_scores_communication*0.15+ \n",
    "train_df.review_scores_location*0.175+ \n",
    "train_df.review_scores_value*0.2)"
   ]
  },
  {
   "cell_type": "code",
   "execution_count": 26,
   "metadata": {},
   "outputs": [
    {
     "name": "stdout",
     "output_type": "stream",
     "text": [
      "<class 'pandas.core.series.Series'>\n",
      "Int64Index: 11313 entries, 0 to 11312\n",
      "Series name: None\n",
      "Non-Null Count  Dtype  \n",
      "--------------  -----  \n",
      "9328 non-null   float64\n",
      "dtypes: float64(1)\n",
      "memory usage: 176.8 KB\n"
     ]
    },
    {
     "data": {
      "text/plain": [
       "(0    5.00000\n",
       " 1    4.86650\n",
       " 2    4.71875\n",
       " 3    4.89450\n",
       " 4    4.90550\n",
       " 5        NaN\n",
       " 6    4.70125\n",
       " 7    4.07500\n",
       " 8    4.78775\n",
       " 9        NaN\n",
       " dtype: float64,\n",
       " None)"
      ]
     },
     "execution_count": 26,
     "metadata": {},
     "output_type": "execute_result"
    }
   ],
   "source": [
    "combine_score[:10], combine_score.info()"
   ]
  },
  {
   "cell_type": "code",
   "execution_count": 37,
   "metadata": {},
   "outputs": [
    {
     "name": "stdout",
     "output_type": "stream",
     "text": [
      "<class 'pandas.core.frame.DataFrame'>\n",
      "Int64Index: 11313 entries, 0 to 11312\n",
      "Data columns (total 7 columns):\n",
      " #   Column                       Non-Null Count  Dtype  \n",
      "---  ------                       --------------  -----  \n",
      " 0   review_scores_rating         9501 non-null   float64\n",
      " 1   review_scores_accuracy       9330 non-null   float64\n",
      " 2   review_scores_cleanliness    9332 non-null   float64\n",
      " 3   review_scores_checkin        9329 non-null   float64\n",
      " 4   review_scores_communication  9329 non-null   float64\n",
      " 5   review_scores_location       9328 non-null   float64\n",
      " 6   review_scores_value          9329 non-null   float64\n",
      "dtypes: float64(7)\n",
      "memory usage: 707.1 KB\n"
     ]
    }
   ],
   "source": [
    "train_df[list(filter(lambda x: \"review_scores\" in x, train_df.columns.values))].info()"
   ]
  },
  {
   "cell_type": "markdown",
   "metadata": {},
   "source": [
    "Seems that at least 9328 cells are populated with data for review scores, and exactly 9328 units are completely populated with data for the combined score."
   ]
  },
  {
   "cell_type": "code",
   "execution_count": 43,
   "metadata": {},
   "outputs": [
    {
     "data": {
      "text/plain": [
       "0    good\n",
       "1    good\n",
       "2    good\n",
       "3    good\n",
       "4    good\n",
       "5    poor\n",
       "dtype: object"
      ]
     },
     "execution_count": 43,
     "metadata": {},
     "output_type": "execute_result"
    }
   ],
   "source": [
    "score_band = pd.Series(map(lambda x: \"good\" if x >= 4 else (\"fair\" if x >= 3 else \"poor\"), combine_score))\n",
    "score_band.head(6)"
   ]
  },
  {
   "cell_type": "code",
   "execution_count": 44,
   "metadata": {},
   "outputs": [
    {
     "name": "stderr",
     "output_type": "stream",
     "text": [
      "C:\\Users\\wjx\\AppData\\Local\\Temp\\ipykernel_7028\\2989994410.py:1: SettingWithCopyWarning: \n",
      "A value is trying to be set on a copy of a slice from a DataFrame.\n",
      "Try using .loc[row_indexer,col_indexer] = value instead\n",
      "\n",
      "See the caveats in the documentation: https://pandas.pydata.org/pandas-docs/stable/user_guide/indexing.html#returning-a-view-versus-a-copy\n",
      "  train_df[\"score_band\"] = score_band\n",
      "C:\\Users\\wjx\\AppData\\Local\\Temp\\ipykernel_7028\\2989994410.py:2: SettingWithCopyWarning: \n",
      "A value is trying to be set on a copy of a slice from a DataFrame\n",
      "\n",
      "See the caveats in the documentation: https://pandas.pydata.org/pandas-docs/stable/user_guide/indexing.html#returning-a-view-versus-a-copy\n",
      "  train_df.drop(list(filter(lambda x: \"review_scores\" in x, train_df.columns.values)), axis = 1, inplace=True)\n"
     ]
    },
    {
     "data": {
      "text/plain": [
       "Index(['id', 'name', 'host_id', 'host_name', 'host_since', 'host_location',\n",
       "       'host_response_time', 'host_response_rate', 'host_acceptance_rate',\n",
       "       'host_is_superhost', 'host_neighbourhood', 'host_listings_count',\n",
       "       'host_total_listings_count', 'host_verifications',\n",
       "       'host_has_profile_pic', 'host_identity_verified',\n",
       "       'neighbourhood_cleansed', 'property_type', 'room_type', 'accommodates',\n",
       "       'bathrooms_text', 'bedrooms', 'beds', 'amenities', 'price',\n",
       "       'number_of_reviews', 'number_of_reviews_ltm', 'number_of_reviews_l30d',\n",
       "       'first_review', 'last_review', 'instant_bookable',\n",
       "       'calculated_host_listings_count',\n",
       "       'calculated_host_listings_count_entire_homes',\n",
       "       'calculated_host_listings_count_private_rooms',\n",
       "       'calculated_host_listings_count_shared_rooms', 'reviews_per_month',\n",
       "       'score_band'],\n",
       "      dtype='object')"
      ]
     },
     "execution_count": 44,
     "metadata": {},
     "output_type": "execute_result"
    }
   ],
   "source": [
    "train_df[\"score_band\"] = score_band\n",
    "train_df.drop(list(filter(lambda x: \"review_scores\" in x, train_df.columns.values)), axis = 1, inplace=True)\n",
    "train_df.columns"
   ]
  },
  {
   "cell_type": "markdown",
   "metadata": {},
   "source": [
    "## Describe the Data"
   ]
  },
  {
   "cell_type": "code",
   "execution_count": 50,
   "metadata": {},
   "outputs": [
    {
     "data": {
      "text/html": [
       "<div>\n",
       "<style scoped>\n",
       "    .dataframe tbody tr th:only-of-type {\n",
       "        vertical-align: middle;\n",
       "    }\n",
       "\n",
       "    .dataframe tbody tr th {\n",
       "        vertical-align: top;\n",
       "    }\n",
       "\n",
       "    .dataframe thead th {\n",
       "        text-align: right;\n",
       "    }\n",
       "</style>\n",
       "<table border=\"1\" class=\"dataframe\">\n",
       "  <thead>\n",
       "    <tr style=\"text-align: right;\">\n",
       "      <th></th>\n",
       "      <th>name</th>\n",
       "      <th>host_name</th>\n",
       "      <th>host_since</th>\n",
       "      <th>host_location</th>\n",
       "      <th>host_response_time</th>\n",
       "      <th>host_response_rate</th>\n",
       "      <th>host_acceptance_rate</th>\n",
       "      <th>host_is_superhost</th>\n",
       "    </tr>\n",
       "  </thead>\n",
       "  <tbody>\n",
       "    <tr>\n",
       "      <th>count</th>\n",
       "      <td>11312</td>\n",
       "      <td>11307</td>\n",
       "      <td>11307</td>\n",
       "      <td>11303</td>\n",
       "      <td>5588</td>\n",
       "      <td>5588</td>\n",
       "      <td>5776</td>\n",
       "      <td>11307</td>\n",
       "    </tr>\n",
       "    <tr>\n",
       "      <th>unique</th>\n",
       "      <td>11171</td>\n",
       "      <td>4032</td>\n",
       "      <td>2855</td>\n",
       "      <td>293</td>\n",
       "      <td>4</td>\n",
       "      <td>65</td>\n",
       "      <td>87</td>\n",
       "      <td>2</td>\n",
       "    </tr>\n",
       "    <tr>\n",
       "      <th>top</th>\n",
       "      <td>Private room in a shared hostel suite downtown</td>\n",
       "      <td>David</td>\n",
       "      <td>2011-07-06</td>\n",
       "      <td>Toronto, Ontario, Canada</td>\n",
       "      <td>within an hour</td>\n",
       "      <td>100%</td>\n",
       "      <td>100%</td>\n",
       "      <td>f</td>\n",
       "    </tr>\n",
       "    <tr>\n",
       "      <th>freq</th>\n",
       "      <td>8</td>\n",
       "      <td>89</td>\n",
       "      <td>49</td>\n",
       "      <td>8769</td>\n",
       "      <td>2802</td>\n",
       "      <td>3716</td>\n",
       "      <td>1751</td>\n",
       "      <td>8249</td>\n",
       "    </tr>\n",
       "  </tbody>\n",
       "</table>\n",
       "</div>"
      ],
      "text/plain": [
       "                                                  name host_name  host_since  \\\n",
       "count                                            11312     11307       11307   \n",
       "unique                                           11171      4032        2855   \n",
       "top     Private room in a shared hostel suite downtown     David  2011-07-06   \n",
       "freq                                                 8        89          49   \n",
       "\n",
       "                   host_location host_response_time host_response_rate  \\\n",
       "count                      11303               5588               5588   \n",
       "unique                       293                  4                 65   \n",
       "top     Toronto, Ontario, Canada     within an hour               100%   \n",
       "freq                        8769               2802               3716   \n",
       "\n",
       "       host_acceptance_rate host_is_superhost  \n",
       "count                  5776             11307  \n",
       "unique                   87                 2  \n",
       "top                    100%                 f  \n",
       "freq                   1751              8249  "
      ]
     },
     "execution_count": 50,
     "metadata": {},
     "output_type": "execute_result"
    }
   ],
   "source": [
    "train_df.iloc[:,0:10].describe(include=\"O\")"
   ]
  },
  {
   "cell_type": "markdown",
   "metadata": {},
   "source": [
    "* There are duplicate names of listings, meaning that the same listing is rented twice or more\n",
    "* Host name shows duplicates. The guy named \"David\" had 89 listing records\n",
    "* Host_since should be date object, need to check if the type is desired\n",
    "* The locations are more concentrated, 11303 listing to 293 unique locations. The top value seems not indicating accurate street address, need to further inpect value behaviour\n",
    "* Host response time seems to have only a few unique values, and it shows in text like \"within an hour.\" Need to further inspect it\n",
    "* Response rate and acceptance rate are shown as text due % sign. Need to inspect values and remove % sign.\n",
    "* Need to convert host_is_superhost into boolean values"
   ]
  },
  {
   "cell_type": "markdown",
   "metadata": {},
   "source": [
    "### Correcting object-valued variables in the first 10 variables"
   ]
  },
  {
   "cell_type": "code",
   "execution_count": 62,
   "metadata": {},
   "outputs": [
    {
     "data": {
      "text/plain": [
       "<bound method Series.unique of 0             Alexandra\n",
       "1        Kathie & Larry\n",
       "2         Yohan & Sarah\n",
       "3                 Brent\n",
       "4                  Rita\n",
       "              ...      \n",
       "11308            Bozica\n",
       "11309             Cathy\n",
       "11310            Bozica\n",
       "11311            Elaine\n",
       "11312            Irmita\n",
       "Name: host_name, Length: 11313, dtype: object>"
      ]
     },
     "execution_count": 62,
     "metadata": {},
     "output_type": "execute_result"
    }
   ],
   "source": [
    "train_df.host_name.unique"
   ]
  },
  {
   "cell_type": "code",
   "execution_count": 74,
   "metadata": {},
   "outputs": [
    {
     "data": {
      "text/plain": [
       "str"
      ]
     },
     "execution_count": 74,
     "metadata": {},
     "output_type": "execute_result"
    }
   ],
   "source": [
    "test_date = train_df.host_since.values[0]\n",
    "type(test_date)"
   ]
  },
  {
   "cell_type": "code",
   "execution_count": 79,
   "metadata": {},
   "outputs": [
    {
     "name": "stderr",
     "output_type": "stream",
     "text": [
      "C:\\Users\\wjx\\AppData\\Local\\Temp\\ipykernel_7028\\43717234.py:1: SettingWithCopyWarning: \n",
      "A value is trying to be set on a copy of a slice from a DataFrame.\n",
      "Try using .loc[row_indexer,col_indexer] = value instead\n",
      "\n",
      "See the caveats in the documentation: https://pandas.pydata.org/pandas-docs/stable/user_guide/indexing.html#returning-a-view-versus-a-copy\n",
      "  train_df.host_since = pd.to_datetime(train_df.host_since, infer_datetime_format=True)\n"
     ]
    }
   ],
   "source": [
    "train_df.host_since = pd.to_datetime(train_df.host_since, infer_datetime_format=True)"
   ]
  },
  {
   "cell_type": "code",
   "execution_count": 81,
   "metadata": {},
   "outputs": [
    {
     "data": {
      "text/plain": [
       "array([nan, 'within a few hours', 'within an hour', 'within a day',\n",
       "       'a few days or more'], dtype=object)"
      ]
     },
     "execution_count": 81,
     "metadata": {},
     "output_type": "execute_result"
    }
   ],
   "source": [
    "train_df.host_response_time.unique()"
   ]
  },
  {
   "cell_type": "code",
   "execution_count": 85,
   "metadata": {},
   "outputs": [
    {
     "name": "stderr",
     "output_type": "stream",
     "text": [
      "C:\\Users\\wjx\\AppData\\Local\\Temp\\ipykernel_7028\\1512940098.py:2: SettingWithCopyWarning: \n",
      "A value is trying to be set on a copy of a slice from a DataFrame.\n",
      "Try using .loc[row_indexer,col_indexer] = value instead\n",
      "\n",
      "See the caveats in the documentation: https://pandas.pydata.org/pandas-docs/stable/user_guide/indexing.html#returning-a-view-versus-a-copy\n",
      "  train_df.host_response_time = train_df.host_response_time.map(\n"
     ]
    },
    {
     "data": {
      "text/plain": [
       "0       NaN\n",
       "1       NaN\n",
       "2       NaN\n",
       "3       NaN\n",
       "4       NaN\n",
       "         ..\n",
       "11308   NaN\n",
       "11309   NaN\n",
       "11310   NaN\n",
       "11311   NaN\n",
       "11312   NaN\n",
       "Name: host_response_time, Length: 11313, dtype: float64"
      ]
     },
     "execution_count": 85,
     "metadata": {},
     "output_type": "execute_result"
    }
   ],
   "source": [
    "#Since host response time is labeled in an ordinal order, we can convert it to ordinal values\n",
    "train_df.host_response_time = train_df.host_response_time.map(\n",
    "    {'within a few hours':1, 'within an hour':2, 'within a day':3,\n",
    "    'a few days or more':4, np.NaN: 4})\n",
    "train_df.host_response_time"
   ]
  },
  {
   "cell_type": "code",
   "execution_count": 86,
   "metadata": {},
   "outputs": [
    {
     "data": {
      "text/plain": [
       "array([nan, '54%', '100%', '82%', '50%', '97%', '0%', '96%', '94%', '92%',\n",
       "       '75%', '33%', '99%', '80%', '61%', '86%', '95%', '68%', '91%',\n",
       "       '18%', '65%', '90%', '98%', '72%', '71%', '69%', '67%', '93%',\n",
       "       '40%', '27%', '73%', '76%', '57%', '10%', '85%', '64%', '56%',\n",
       "       '83%', '81%', '47%', '74%', '62%', '17%', '70%', '88%', '22%',\n",
       "       '25%', '79%', '89%', '30%', '63%', '42%', '41%', '20%', '78%',\n",
       "       '60%', '29%', '35%', '77%', '52%', '14%', '87%', '55%', '46%',\n",
       "       '38%', '59%', '51%', '31%', '8%', '84%', '13%', '36%', '44%',\n",
       "       '43%', '5%', '58%', '9%', '15%', '24%', '53%', '21%', '11%', '48%',\n",
       "       '66%', '45%', '34%', '39%', '16%'], dtype=object)"
      ]
     },
     "execution_count": 86,
     "metadata": {},
     "output_type": "execute_result"
    }
   ],
   "source": [
    "train_df.host_acceptance_rate.unique()"
   ]
  },
  {
   "cell_type": "code",
   "execution_count": 94,
   "metadata": {},
   "outputs": [
    {
     "name": "stderr",
     "output_type": "stream",
     "text": [
      "C:\\Users\\wjx\\AppData\\Local\\Temp\\ipykernel_7028\\1638827011.py:1: SettingWithCopyWarning: \n",
      "A value is trying to be set on a copy of a slice from a DataFrame.\n",
      "Try using .loc[row_indexer,col_indexer] = value instead\n",
      "\n",
      "See the caveats in the documentation: https://pandas.pydata.org/pandas-docs/stable/user_guide/indexing.html#returning-a-view-versus-a-copy\n",
      "  train_df.host_acceptance_rate = train_df.host_acceptance_rate.str.rstrip(\"%\")\n"
     ]
    },
    {
     "data": {
      "text/plain": [
       "array([nan, '54', '100', '82', '50', '97', '0', '96', '94', '92', '75',\n",
       "       '33', '99', '80', '61', '86', '95', '68', '91', '18', '65', '90',\n",
       "       '98', '72', '71', '69', '67', '93', '40', '27', '73', '76', '57',\n",
       "       '10', '85', '64', '56', '83', '81', '47', '74', '62', '17', '70',\n",
       "       '88', '22', '25', '79', '89', '30', '63', '42', '41', '20', '78',\n",
       "       '60', '29', '35', '77', '52', '14', '87', '55', '46', '38', '59',\n",
       "       '51', '31', '8', '84', '13', '36', '44', '43', '5', '58', '9',\n",
       "       '15', '24', '53', '21', '11', '48', '66', '45', '34', '39', '16'],\n",
       "      dtype=object)"
      ]
     },
     "execution_count": 94,
     "metadata": {},
     "output_type": "execute_result"
    }
   ],
   "source": [
    "train_df.host_acceptance_rate = train_df.host_acceptance_rate.str.rstrip(\"%\")\n",
    "train_df.host_acceptance_rate.unique()"
   ]
  },
  {
   "cell_type": "code",
   "execution_count": 108,
   "metadata": {},
   "outputs": [
    {
     "ename": "ValueError",
     "evalue": "cannot convert float NaN to integer",
     "output_type": "error",
     "traceback": [
      "\u001b[1;31m---------------------------------------------------------------------------\u001b[0m",
      "\u001b[1;31mValueError\u001b[0m                                Traceback (most recent call last)",
      "\u001b[1;32mc:\\Users\\wjx\\Desktop\\Fall 2022\\STAT 441\\STAT 441 Project\\Airbnb EDA.ipynb Cell 49\u001b[0m in \u001b[0;36m<cell line: 12>\u001b[1;34m()\u001b[0m\n\u001b[0;32m     <a href='vscode-notebook-cell:/c%3A/Users/wjx/Desktop/Fall%202022/STAT%20441/STAT%20441%20Project/Airbnb%20EDA.ipynb#Y100sZmlsZQ%3D%3D?line=9'>10</a>\u001b[0m         \u001b[39mreturn\u001b[39;00m \u001b[39m3\u001b[39m\n\u001b[0;32m     <a href='vscode-notebook-cell:/c%3A/Users/wjx/Desktop/Fall%202022/STAT%20441/STAT%20441%20Project/Airbnb%20EDA.ipynb#Y100sZmlsZQ%3D%3D?line=10'>11</a>\u001b[0m indx_for_convertion \u001b[39m=\u001b[39m train_df\u001b[39m.\u001b[39mhost_acceptance_rate\u001b[39m.\u001b[39misnull()\n\u001b[1;32m---> <a href='vscode-notebook-cell:/c%3A/Users/wjx/Desktop/Fall%202022/STAT%20441/STAT%20441%20Project/Airbnb%20EDA.ipynb#Y100sZmlsZQ%3D%3D?line=11'>12</a>\u001b[0m train_df\u001b[39m.\u001b[39mhost_acceptance_rate[indx_for_convertion] \u001b[39m=\u001b[39m train_df\u001b[39m.\u001b[39;49mhost_acceptance_rate\u001b[39m.\u001b[39;49mloc[indx_for_convertion]\u001b[39m.\u001b[39;49mastype(\u001b[39m\"\u001b[39;49m\u001b[39mint32\u001b[39;49m\u001b[39m\"\u001b[39;49m)\n",
      "File \u001b[1;32m~\\AppData\\Local\\Packages\\PythonSoftwareFoundation.Python.3.9_qbz5n2kfra8p0\\LocalCache\\local-packages\\Python39\\site-packages\\pandas\\core\\generic.py:5912\u001b[0m, in \u001b[0;36mNDFrame.astype\u001b[1;34m(self, dtype, copy, errors)\u001b[0m\n\u001b[0;32m   5905\u001b[0m     results \u001b[39m=\u001b[39m [\n\u001b[0;32m   5906\u001b[0m         \u001b[39mself\u001b[39m\u001b[39m.\u001b[39miloc[:, i]\u001b[39m.\u001b[39mastype(dtype, copy\u001b[39m=\u001b[39mcopy)\n\u001b[0;32m   5907\u001b[0m         \u001b[39mfor\u001b[39;00m i \u001b[39min\u001b[39;00m \u001b[39mrange\u001b[39m(\u001b[39mlen\u001b[39m(\u001b[39mself\u001b[39m\u001b[39m.\u001b[39mcolumns))\n\u001b[0;32m   5908\u001b[0m     ]\n\u001b[0;32m   5910\u001b[0m \u001b[39melse\u001b[39;00m:\n\u001b[0;32m   5911\u001b[0m     \u001b[39m# else, only a single dtype is given\u001b[39;00m\n\u001b[1;32m-> 5912\u001b[0m     new_data \u001b[39m=\u001b[39m \u001b[39mself\u001b[39;49m\u001b[39m.\u001b[39;49m_mgr\u001b[39m.\u001b[39;49mastype(dtype\u001b[39m=\u001b[39;49mdtype, copy\u001b[39m=\u001b[39;49mcopy, errors\u001b[39m=\u001b[39;49merrors)\n\u001b[0;32m   5913\u001b[0m     \u001b[39mreturn\u001b[39;00m \u001b[39mself\u001b[39m\u001b[39m.\u001b[39m_constructor(new_data)\u001b[39m.\u001b[39m__finalize__(\u001b[39mself\u001b[39m, method\u001b[39m=\u001b[39m\u001b[39m\"\u001b[39m\u001b[39mastype\u001b[39m\u001b[39m\"\u001b[39m)\n\u001b[0;32m   5915\u001b[0m \u001b[39m# GH 33113: handle empty frame or series\u001b[39;00m\n",
      "File \u001b[1;32m~\\AppData\\Local\\Packages\\PythonSoftwareFoundation.Python.3.9_qbz5n2kfra8p0\\LocalCache\\local-packages\\Python39\\site-packages\\pandas\\core\\internals\\managers.py:419\u001b[0m, in \u001b[0;36mBaseBlockManager.astype\u001b[1;34m(self, dtype, copy, errors)\u001b[0m\n\u001b[0;32m    418\u001b[0m \u001b[39mdef\u001b[39;00m \u001b[39mastype\u001b[39m(\u001b[39mself\u001b[39m: T, dtype, copy: \u001b[39mbool\u001b[39m \u001b[39m=\u001b[39m \u001b[39mFalse\u001b[39;00m, errors: \u001b[39mstr\u001b[39m \u001b[39m=\u001b[39m \u001b[39m\"\u001b[39m\u001b[39mraise\u001b[39m\u001b[39m\"\u001b[39m) \u001b[39m-\u001b[39m\u001b[39m>\u001b[39m T:\n\u001b[1;32m--> 419\u001b[0m     \u001b[39mreturn\u001b[39;00m \u001b[39mself\u001b[39;49m\u001b[39m.\u001b[39;49mapply(\u001b[39m\"\u001b[39;49m\u001b[39mastype\u001b[39;49m\u001b[39m\"\u001b[39;49m, dtype\u001b[39m=\u001b[39;49mdtype, copy\u001b[39m=\u001b[39;49mcopy, errors\u001b[39m=\u001b[39;49merrors)\n",
      "File \u001b[1;32m~\\AppData\\Local\\Packages\\PythonSoftwareFoundation.Python.3.9_qbz5n2kfra8p0\\LocalCache\\local-packages\\Python39\\site-packages\\pandas\\core\\internals\\managers.py:304\u001b[0m, in \u001b[0;36mBaseBlockManager.apply\u001b[1;34m(self, f, align_keys, ignore_failures, **kwargs)\u001b[0m\n\u001b[0;32m    302\u001b[0m         applied \u001b[39m=\u001b[39m b\u001b[39m.\u001b[39mapply(f, \u001b[39m*\u001b[39m\u001b[39m*\u001b[39mkwargs)\n\u001b[0;32m    303\u001b[0m     \u001b[39melse\u001b[39;00m:\n\u001b[1;32m--> 304\u001b[0m         applied \u001b[39m=\u001b[39m \u001b[39mgetattr\u001b[39m(b, f)(\u001b[39m*\u001b[39m\u001b[39m*\u001b[39mkwargs)\n\u001b[0;32m    305\u001b[0m \u001b[39mexcept\u001b[39;00m (\u001b[39mTypeError\u001b[39;00m, \u001b[39mNotImplementedError\u001b[39;00m):\n\u001b[0;32m    306\u001b[0m     \u001b[39mif\u001b[39;00m \u001b[39mnot\u001b[39;00m ignore_failures:\n",
      "File \u001b[1;32m~\\AppData\\Local\\Packages\\PythonSoftwareFoundation.Python.3.9_qbz5n2kfra8p0\\LocalCache\\local-packages\\Python39\\site-packages\\pandas\\core\\internals\\blocks.py:580\u001b[0m, in \u001b[0;36mBlock.astype\u001b[1;34m(self, dtype, copy, errors)\u001b[0m\n\u001b[0;32m    562\u001b[0m \u001b[39m\"\"\"\u001b[39;00m\n\u001b[0;32m    563\u001b[0m \u001b[39mCoerce to the new dtype.\u001b[39;00m\n\u001b[0;32m    564\u001b[0m \n\u001b[1;32m   (...)\u001b[0m\n\u001b[0;32m    576\u001b[0m \u001b[39mBlock\u001b[39;00m\n\u001b[0;32m    577\u001b[0m \u001b[39m\"\"\"\u001b[39;00m\n\u001b[0;32m    578\u001b[0m values \u001b[39m=\u001b[39m \u001b[39mself\u001b[39m\u001b[39m.\u001b[39mvalues\n\u001b[1;32m--> 580\u001b[0m new_values \u001b[39m=\u001b[39m astype_array_safe(values, dtype, copy\u001b[39m=\u001b[39;49mcopy, errors\u001b[39m=\u001b[39;49merrors)\n\u001b[0;32m    582\u001b[0m new_values \u001b[39m=\u001b[39m maybe_coerce_values(new_values)\n\u001b[0;32m    583\u001b[0m newb \u001b[39m=\u001b[39m \u001b[39mself\u001b[39m\u001b[39m.\u001b[39mmake_block(new_values)\n",
      "File \u001b[1;32m~\\AppData\\Local\\Packages\\PythonSoftwareFoundation.Python.3.9_qbz5n2kfra8p0\\LocalCache\\local-packages\\Python39\\site-packages\\pandas\\core\\dtypes\\cast.py:1292\u001b[0m, in \u001b[0;36mastype_array_safe\u001b[1;34m(values, dtype, copy, errors)\u001b[0m\n\u001b[0;32m   1289\u001b[0m     dtype \u001b[39m=\u001b[39m dtype\u001b[39m.\u001b[39mnumpy_dtype\n\u001b[0;32m   1291\u001b[0m \u001b[39mtry\u001b[39;00m:\n\u001b[1;32m-> 1292\u001b[0m     new_values \u001b[39m=\u001b[39m astype_array(values, dtype, copy\u001b[39m=\u001b[39;49mcopy)\n\u001b[0;32m   1293\u001b[0m \u001b[39mexcept\u001b[39;00m (\u001b[39mValueError\u001b[39;00m, \u001b[39mTypeError\u001b[39;00m):\n\u001b[0;32m   1294\u001b[0m     \u001b[39m# e.g. astype_nansafe can fail on object-dtype of strings\u001b[39;00m\n\u001b[0;32m   1295\u001b[0m     \u001b[39m#  trying to convert to float\u001b[39;00m\n\u001b[0;32m   1296\u001b[0m     \u001b[39mif\u001b[39;00m errors \u001b[39m==\u001b[39m \u001b[39m\"\u001b[39m\u001b[39mignore\u001b[39m\u001b[39m\"\u001b[39m:\n",
      "File \u001b[1;32m~\\AppData\\Local\\Packages\\PythonSoftwareFoundation.Python.3.9_qbz5n2kfra8p0\\LocalCache\\local-packages\\Python39\\site-packages\\pandas\\core\\dtypes\\cast.py:1237\u001b[0m, in \u001b[0;36mastype_array\u001b[1;34m(values, dtype, copy)\u001b[0m\n\u001b[0;32m   1234\u001b[0m     values \u001b[39m=\u001b[39m values\u001b[39m.\u001b[39mastype(dtype, copy\u001b[39m=\u001b[39mcopy)\n\u001b[0;32m   1236\u001b[0m \u001b[39melse\u001b[39;00m:\n\u001b[1;32m-> 1237\u001b[0m     values \u001b[39m=\u001b[39m astype_nansafe(values, dtype, copy\u001b[39m=\u001b[39;49mcopy)\n\u001b[0;32m   1239\u001b[0m \u001b[39m# in pandas we don't store numpy str dtypes, so convert to object\u001b[39;00m\n\u001b[0;32m   1240\u001b[0m \u001b[39mif\u001b[39;00m \u001b[39misinstance\u001b[39m(dtype, np\u001b[39m.\u001b[39mdtype) \u001b[39mand\u001b[39;00m \u001b[39missubclass\u001b[39m(values\u001b[39m.\u001b[39mdtype\u001b[39m.\u001b[39mtype, \u001b[39mstr\u001b[39m):\n",
      "File \u001b[1;32m~\\AppData\\Local\\Packages\\PythonSoftwareFoundation.Python.3.9_qbz5n2kfra8p0\\LocalCache\\local-packages\\Python39\\site-packages\\pandas\\core\\dtypes\\cast.py:1154\u001b[0m, in \u001b[0;36mastype_nansafe\u001b[1;34m(arr, dtype, copy, skipna)\u001b[0m\n\u001b[0;32m   1150\u001b[0m \u001b[39melif\u001b[39;00m is_object_dtype(arr\u001b[39m.\u001b[39mdtype):\n\u001b[0;32m   1151\u001b[0m \n\u001b[0;32m   1152\u001b[0m     \u001b[39m# work around NumPy brokenness, #1987\u001b[39;00m\n\u001b[0;32m   1153\u001b[0m     \u001b[39mif\u001b[39;00m np\u001b[39m.\u001b[39missubdtype(dtype\u001b[39m.\u001b[39mtype, np\u001b[39m.\u001b[39minteger):\n\u001b[1;32m-> 1154\u001b[0m         \u001b[39mreturn\u001b[39;00m lib\u001b[39m.\u001b[39;49mastype_intsafe(arr, dtype)\n\u001b[0;32m   1156\u001b[0m     \u001b[39m# if we have a datetime/timedelta array of objects\u001b[39;00m\n\u001b[0;32m   1157\u001b[0m     \u001b[39m# then coerce to a proper dtype and recall astype_nansafe\u001b[39;00m\n\u001b[0;32m   1159\u001b[0m     \u001b[39melif\u001b[39;00m is_datetime64_dtype(dtype):\n",
      "File \u001b[1;32m~\\AppData\\Local\\Packages\\PythonSoftwareFoundation.Python.3.9_qbz5n2kfra8p0\\LocalCache\\local-packages\\Python39\\site-packages\\pandas\\_libs\\lib.pyx:668\u001b[0m, in \u001b[0;36mpandas._libs.lib.astype_intsafe\u001b[1;34m()\u001b[0m\n",
      "\u001b[1;31mValueError\u001b[0m: cannot convert float NaN to integer"
     ]
    }
   ],
   "source": [
    "def rate_band(rate):\n",
    "    if rate == np.NaN:\n",
    "        return 4\n",
    "\n",
    "    if rate >= 80:\n",
    "        return 1\n",
    "    elif rate >= 60:\n",
    "        return 2\n",
    "    else :\n",
    "        return 3\n",
    "indx_for_convertion = train_df.host_acceptance_rate.isnull()\n",
    "train_df.host_acceptance_rate[indx_for_convertion] = train_df.host_acceptance_rate.loc[indx_for_convertion].astype(\"int32\")"
   ]
  },
  {
   "cell_type": "code",
   "execution_count": 100,
   "metadata": {},
   "outputs": [
    {
     "data": {
      "text/plain": [
       "False"
      ]
     },
     "execution_count": 100,
     "metadata": {},
     "output_type": "execute_result"
    }
   ],
   "source": [
    "\n"
   ]
  },
  {
   "cell_type": "code",
   "execution_count": 103,
   "metadata": {},
   "outputs": [
    {
     "data": {
      "text/plain": [
       "0         True\n",
       "1         True\n",
       "2         True\n",
       "3         True\n",
       "4        False\n",
       "         ...  \n",
       "11308     True\n",
       "11309     True\n",
       "11310     True\n",
       "11311     True\n",
       "11312    False\n",
       "Name: host_acceptance_rate, Length: 11313, dtype: bool"
      ]
     },
     "execution_count": 103,
     "metadata": {},
     "output_type": "execute_result"
    }
   ],
   "source": []
  },
  {
   "cell_type": "code",
   "execution_count": null,
   "metadata": {},
   "outputs": [],
   "source": []
  }
 ],
 "metadata": {
  "kernelspec": {
   "display_name": "Python 3.9.13 64-bit (microsoft store)",
   "language": "python",
   "name": "python3"
  },
  "language_info": {
   "codemirror_mode": {
    "name": "ipython",
    "version": 3
   },
   "file_extension": ".py",
   "mimetype": "text/x-python",
   "name": "python",
   "nbconvert_exporter": "python",
   "pygments_lexer": "ipython3",
   "version": "3.9.13"
  },
  "orig_nbformat": 4,
  "vscode": {
   "interpreter": {
    "hash": "3b74cc86015b30890be47b7f67900d45ab8339fe39cfbe676b8ba070891b652a"
   }
  }
 },
 "nbformat": 4,
 "nbformat_minor": 2
}
