{
 "cells": [
  {
   "cell_type": "markdown",
   "metadata": {},
   "source": [
    "# Airbnb inititial wrangling and analysis\n",
    "\n",
    "**Research Problem**:\n",
    "Is your host profile attractive enough?\n",
    "\n",
    "**Motivation**:\n",
    "An attractive profile should attract travelers to book a house listing at a frequent base. The result of this is that a majority of nights in a year are booked by travelers. Host usally put the most beutiful photos of their listing on Airbnb, making them look like 5-star hotels. In fact, the data source website shows that a large number of listings were vaccant in the last 12 months (0 nights booked). Why some listings didn't gain attention might correlate with the hosts' profile: for example, their occupations, word choices in writing the host and listing summary.\n",
    "\n",
    "**Method**:\n",
    "* Define profile attractiveness = \n",
    "(Occupancy in the last 12 months)/(number of words in the listing description). \n",
    "* **First round prediction**: name of the listing, host_is_superhost, host_has_Profile_pic"
   ]
  },
  {
   "cell_type": "code",
   "execution_count": 2,
   "metadata": {},
   "outputs": [],
   "source": [
    "import pandas as pd\n",
    "import numpy as np\n",
    "import matplotlib.pyplot as plt\n",
    "from datetime import datetime"
   ]
  },
  {
   "cell_type": "code",
   "execution_count": 4,
   "metadata": {},
   "outputs": [],
   "source": [
    "## load Data\n",
    "calendar = pd.read_csv(\"calendar.csv\")\n",
    "listings = pd.read_csv(\"listings.csv\")\n",
    "\n",
    "## Sample the first 1000 observations of listings\n",
    "listings = listings.loc[0:1000, [\"id\", \\\n",
    "    \"description\", \"host_name\", \"host_is_superhost\"]]\n",
    "calendar = calendar[[\"listing_id\", \"date\", \"available\"]]"
   ]
  },
  {
   "cell_type": "code",
   "execution_count": 6,
   "metadata": {},
   "outputs": [
    {
     "name": "stdout",
     "output_type": "stream",
     "text": [
      "<class 'pandas.core.frame.DataFrame'>\n",
      "RangeIndex: 1048575 entries, 0 to 1048574\n",
      "Data columns (total 3 columns):\n",
      " #   Column      Non-Null Count    Dtype \n",
      "---  ------      --------------    ----- \n",
      " 0   listing_id  1048575 non-null  int64 \n",
      " 1   date        1048575 non-null  object\n",
      " 2   available   1048575 non-null  object\n",
      "dtypes: int64(1), object(2)\n",
      "memory usage: 24.0+ MB\n"
     ]
    },
    {
     "data": {
      "text/html": [
       "<div>\n",
       "<style scoped>\n",
       "    .dataframe tbody tr th:only-of-type {\n",
       "        vertical-align: middle;\n",
       "    }\n",
       "\n",
       "    .dataframe tbody tr th {\n",
       "        vertical-align: top;\n",
       "    }\n",
       "\n",
       "    .dataframe thead th {\n",
       "        text-align: right;\n",
       "    }\n",
       "</style>\n",
       "<table border=\"1\" class=\"dataframe\">\n",
       "  <thead>\n",
       "    <tr style=\"text-align: right;\">\n",
       "      <th></th>\n",
       "      <th>listing_id</th>\n",
       "    </tr>\n",
       "  </thead>\n",
       "  <tbody>\n",
       "    <tr>\n",
       "      <th>count</th>\n",
       "      <td>1.048575e+06</td>\n",
       "    </tr>\n",
       "    <tr>\n",
       "      <th>mean</th>\n",
       "      <td>1.320461e+07</td>\n",
       "    </tr>\n",
       "    <tr>\n",
       "      <th>std</th>\n",
       "      <td>5.983513e+06</td>\n",
       "    </tr>\n",
       "    <tr>\n",
       "      <th>min</th>\n",
       "      <td>1.419000e+03</td>\n",
       "    </tr>\n",
       "    <tr>\n",
       "      <th>25%</th>\n",
       "      <td>7.564933e+06</td>\n",
       "    </tr>\n",
       "    <tr>\n",
       "      <th>50%</th>\n",
       "      <td>1.447197e+07</td>\n",
       "    </tr>\n",
       "    <tr>\n",
       "      <th>75%</th>\n",
       "      <td>1.822167e+07</td>\n",
       "    </tr>\n",
       "    <tr>\n",
       "      <th>max</th>\n",
       "      <td>2.781125e+07</td>\n",
       "    </tr>\n",
       "  </tbody>\n",
       "</table>\n",
       "</div>"
      ],
      "text/plain": [
       "         listing_id\n",
       "count  1.048575e+06\n",
       "mean   1.320461e+07\n",
       "std    5.983513e+06\n",
       "min    1.419000e+03\n",
       "25%    7.564933e+06\n",
       "50%    1.447197e+07\n",
       "75%    1.822167e+07\n",
       "max    2.781125e+07"
      ]
     },
     "execution_count": 6,
     "metadata": {},
     "output_type": "execute_result"
    }
   ],
   "source": [
    "calendar.info()\n",
    "calendar.describe()"
   ]
  },
  {
   "cell_type": "code",
   "execution_count": 15,
   "metadata": {},
   "outputs": [
    {
     "name": "stdout",
     "output_type": "stream",
     "text": [
      "<class 'pandas.core.series.Series'>\n",
      "RangeIndex: 1048575 entries, 0 to 1048574\n",
      "Series name: date\n",
      "Non-Null Count    Dtype         \n",
      "--------------    -----         \n",
      "1048575 non-null  datetime64[ns]\n",
      "dtypes: datetime64[ns](1)\n",
      "memory usage: 8.0 MB\n"
     ]
    }
   ],
   "source": [
    "calendar.date = pd.to_datetime(calendar.date, infer_datetime_format=True)\n",
    "calendar.date.info()"
   ]
  },
  {
   "cell_type": "code",
   "execution_count": 16,
   "metadata": {},
   "outputs": [
    {
     "name": "stdout",
     "output_type": "stream",
     "text": [
      "<class 'pandas.core.series.Series'>\n",
      "RangeIndex: 1048575 entries, 0 to 1048574\n",
      "Series name: available\n",
      "Non-Null Count    Dtype\n",
      "--------------    -----\n",
      "1048575 non-null  bool \n",
      "dtypes: bool(1)\n",
      "memory usage: 1.0 MB\n"
     ]
    },
    {
     "data": {
      "text/plain": [
       "count     1048575\n",
       "unique          2\n",
       "top         False\n",
       "freq       764317\n",
       "Name: available, dtype: object"
      ]
     },
     "execution_count": 16,
     "metadata": {},
     "output_type": "execute_result"
    }
   ],
   "source": [
    "calendar.available = calendar.available.map({\"f\": False, \"t\": True})\n",
    "calendar.available.info()\n",
    "calendar.available.describe()"
   ]
  },
  {
   "cell_type": "code",
   "execution_count": 21,
   "metadata": {},
   "outputs": [
    {
     "data": {
      "text/plain": [
       "count    1.048575e+06\n",
       "mean     2.022684e+03\n",
       "std      4.648842e-01\n",
       "min      2.022000e+03\n",
       "25%      2.022000e+03\n",
       "50%      2.023000e+03\n",
       "75%      2.023000e+03\n",
       "max      2.023000e+03\n",
       "Name: year, dtype: float64"
      ]
     },
     "execution_count": 21,
     "metadata": {},
     "output_type": "execute_result"
    }
   ],
   "source": [
    "calendar[\"year\"] = calendar.date.dt.year\n",
    "calendar[\"year\"].describe()"
   ]
  },
  {
   "cell_type": "code",
   "execution_count": 28,
   "metadata": {},
   "outputs": [
    {
     "data": {
      "text/html": [
       "<div>\n",
       "<style scoped>\n",
       "    .dataframe tbody tr th:only-of-type {\n",
       "        vertical-align: middle;\n",
       "    }\n",
       "\n",
       "    .dataframe tbody tr th {\n",
       "        vertical-align: top;\n",
       "    }\n",
       "\n",
       "    .dataframe thead th {\n",
       "        text-align: right;\n",
       "    }\n",
       "</style>\n",
       "<table border=\"1\" class=\"dataframe\">\n",
       "  <thead>\n",
       "    <tr style=\"text-align: right;\">\n",
       "      <th></th>\n",
       "      <th>listing_id</th>\n",
       "      <th>available</th>\n",
       "    </tr>\n",
       "  </thead>\n",
       "  <tbody>\n",
       "    <tr>\n",
       "      <th>0</th>\n",
       "      <td>1419</td>\n",
       "      <td>0</td>\n",
       "    </tr>\n",
       "    <tr>\n",
       "      <th>1</th>\n",
       "      <td>8077</td>\n",
       "      <td>365</td>\n",
       "    </tr>\n",
       "    <tr>\n",
       "      <th>2</th>\n",
       "      <td>27423</td>\n",
       "      <td>18</td>\n",
       "    </tr>\n",
       "    <tr>\n",
       "      <th>3</th>\n",
       "      <td>28160</td>\n",
       "      <td>302</td>\n",
       "    </tr>\n",
       "    <tr>\n",
       "      <th>4</th>\n",
       "      <td>30931</td>\n",
       "      <td>365</td>\n",
       "    </tr>\n",
       "    <tr>\n",
       "      <th>...</th>\n",
       "      <td>...</td>\n",
       "      <td>...</td>\n",
       "    </tr>\n",
       "    <tr>\n",
       "      <th>2868</th>\n",
       "      <td>27787978</td>\n",
       "      <td>0</td>\n",
       "    </tr>\n",
       "    <tr>\n",
       "      <th>2869</th>\n",
       "      <td>27797167</td>\n",
       "      <td>0</td>\n",
       "    </tr>\n",
       "    <tr>\n",
       "      <th>2870</th>\n",
       "      <td>27807353</td>\n",
       "      <td>0</td>\n",
       "    </tr>\n",
       "    <tr>\n",
       "      <th>2871</th>\n",
       "      <td>27808101</td>\n",
       "      <td>0</td>\n",
       "    </tr>\n",
       "    <tr>\n",
       "      <th>2872</th>\n",
       "      <td>27811249</td>\n",
       "      <td>0</td>\n",
       "    </tr>\n",
       "  </tbody>\n",
       "</table>\n",
       "<p>2873 rows × 2 columns</p>\n",
       "</div>"
      ],
      "text/plain": [
       "      listing_id  available\n",
       "0           1419          0\n",
       "1           8077        365\n",
       "2          27423         18\n",
       "3          28160        302\n",
       "4          30931        365\n",
       "...          ...        ...\n",
       "2868    27787978          0\n",
       "2869    27797167          0\n",
       "2870    27807353          0\n",
       "2871    27808101          0\n",
       "2872    27811249          0\n",
       "\n",
       "[2873 rows x 2 columns]"
      ]
     },
     "execution_count": 28,
     "metadata": {},
     "output_type": "execute_result"
    }
   ],
   "source": [
    "listing_availability = calendar.groupby([\"listing_id\"])[[\"available\"]].sum().reset_index()\n",
    "listing_availability"
   ]
  },
  {
   "cell_type": "code",
   "execution_count": 38,
   "metadata": {},
   "outputs": [],
   "source": [
    "## Right join two tables\n",
    "sample_joined = listings.merge(right = listing_availability, left_on=\"id\",\\\n",
    "    right_on = \"listing_id\", how = \"left\" left_index = False)"
   ]
  },
  {
   "cell_type": "code",
   "execution_count": 62,
   "metadata": {},
   "outputs": [],
   "source": [
    "sample_joined[\"descr_word_count\"] = sample_joined[\"description\"].str.split().str.len()"
   ]
  },
  {
   "cell_type": "markdown",
   "metadata": {},
   "source": []
  },
  {
   "cell_type": "code",
   "execution_count": 63,
   "metadata": {},
   "outputs": [
    {
     "data": {
      "text/plain": [
       "1         NaN\n",
       "2    4.802632\n",
       "3    2.851562\n",
       "4    1.134146\n",
       "5         NaN\n",
       "6    0.230303\n",
       "7         NaN\n",
       "8         NaN\n",
       "9    3.625000\n",
       "Name: des_attractiveness, dtype: float64"
      ]
     },
     "execution_count": 63,
     "metadata": {},
     "output_type": "execute_result"
    }
   ],
   "source": [
    "sample_joined[\"des_attractiveness\"] = (365 - sample_joined.available)/\\\n",
    "    sample_joined.descr_word_count\n",
    "sample_joined[\"des_attractiveness\"][1:10]"
   ]
  },
  {
   "cell_type": "code",
   "execution_count": 72,
   "metadata": {},
   "outputs": [
    {
     "data": {
      "text/plain": [
       "(array([360.,  83.,  17.,  16.,   8.,   6.,   0.,   1.,   0.,   0.,   0.,\n",
       "          0.,   0.,   0.,   0.,   0.,   2.,   0.,   0.,   0.]),\n",
       " array([ 0. ,  2.5,  5. ,  7.5, 10. , 12.5, 15. , 17.5, 20. , 22.5, 25. ,\n",
       "        27.5, 30. , 32.5, 35. , 37.5, 40. , 42.5, 45. , 47.5, 50. ]),\n",
       " <BarContainer object of 20 artists>)"
      ]
     },
     "execution_count": 72,
     "metadata": {},
     "output_type": "execute_result"
    },
    {
     "data": {
      "image/png": "[encoded data removed]",
      "text/plain": [
       "<Figure size 640x480 with 1 Axes>"
      ]
     },
     "metadata": {},
     "output_type": "display_data"
    }
   ],
   "source": [
    "plt.title(\"The distribution of profile attrativeness\") \n",
    "plt.hist(sample_joined[\"des_attractiveness\"], range=[0,50], bins=20)"
   ]
  },
  {
   "cell_type": "code",
   "execution_count": 73,
   "metadata": {},
   "outputs": [
    {
     "data": {
      "text/plain": [
       "0.33    0.983120\n",
       "0.66    2.281824\n",
       "Name: des_attractiveness, dtype: float64"
      ]
     },
     "execution_count": 73,
     "metadata": {},
     "output_type": "execute_result"
    }
   ],
   "source": [
    "three_quantiles = sample_joined.des_attractiveness.quantile([0.33, 0.66])\n",
    "three_quantiles"
   ]
  },
  {
   "cell_type": "markdown",
   "metadata": {},
   "source": [
    "Define every description attrativeness below 33% quantile as \"unattractive\", between 33% and 66% quantile as \"somewhat attrative\", above 66% quantile as \"attractive\"."
   ]
  },
  {
   "cell_type": "code",
   "execution_count": 104,
   "metadata": {},
   "outputs": [
    {
     "data": {
      "text/plain": [
       "0    somewhat attrative\n",
       "1                   NaN\n",
       "2             attrative\n",
       "3             attrative\n",
       "4    somewhat attrative\n",
       "5                   NaN\n",
       "6          unattractive\n",
       "7                   NaN\n",
       "8                   NaN\n",
       "9             attrative\n",
       "Name: attrac_class, dtype: object"
      ]
     },
     "execution_count": 104,
     "metadata": {},
     "output_type": "execute_result"
    }
   ],
   "source": [
    "pd.isna(np.nan)\n",
    "def attractive_class(score):\n",
    "    if pd.isna(score):\n",
    "        return np.NaN\n",
    "    if score < three_quantiles.iloc[0]: \n",
    "        return \"unattractive\"\n",
    "    elif score > three_quantiles.iloc[1]:\n",
    "        return \"attrative\"\n",
    "    else:\n",
    "        return \"somewhat attrative\"\n",
    "# attractive_class(0.5)\n",
    "# attractive_class(1.5)\n",
    "# attractive_class(3)\n",
    "# attractive_class(np.NaN)\n",
    "\n",
    "sample_joined[\"attrac_class\"] = sample_joined.des_attractiveness.map(attractive_class)\n",
    "sample_joined[\"attrac_class\"][0:10]"
   ]
  },
  {
   "cell_type": "markdown",
   "metadata": {},
   "source": [
    "Initial Data preparing completed\n",
    "\n",
    "## Analyze by pivoting"
   ]
  },
  {
   "cell_type": "code",
   "execution_count": 107,
   "metadata": {},
   "outputs": [
    {
     "data": {
      "text/plain": [
       "host_is_superhost  attrac_class      \n",
       "f                  attrative             151\n",
       "                   somewhat attrative    122\n",
       "                   unattractive          119\n",
       "t                  attrative              17\n",
       "                   somewhat attrative     41\n",
       "                   unattractive           45\n",
       "Name: attrac_class, dtype: int64"
      ]
     },
     "execution_count": 107,
     "metadata": {},
     "output_type": "execute_result"
    }
   ],
   "source": [
    "# Does superhost affect attractiveness?\n",
    "sample_joined.groupby([\"host_is_superhost\", \"attrac_class\"]).attrac_class.count()"
   ]
  },
  {
   "cell_type": "markdown",
   "metadata": {},
   "source": [
    "* There are more non-super host than superhosts\n",
    "* For non-superhosts, there are more attrative profiles than unattrative ones\n",
    "* For superhosts, there are less attrative profiles than unattrative ones\n",
    "* Can't compare the superhost and non-superhosts by attrativeness directly, since the two groups are imbalance"
   ]
  },
  {
   "cell_type": "code",
   "execution_count": 108,
   "metadata": {},
   "outputs": [
    {
     "data": {
      "text/plain": [
       "Index(['id', 'description', 'host_name', 'host_is_superhost', 'listing_id',\n",
       "       'available', 'descr_word_count', 'des_attractiveness', 'attrac_class'],\n",
       "      dtype='object')"
      ]
     },
     "execution_count": 108,
     "metadata": {},
     "output_type": "execute_result"
    }
   ],
   "source": [
    "sample_joined.columns"
   ]
  },
  {
   "cell_type": "code",
   "execution_count": 109,
   "metadata": {},
   "outputs": [
    {
     "data": {
      "text/plain": [
       "<matplotlib.collections.PathCollection at 0x2968309fb50>"
      ]
     },
     "execution_count": 109,
     "metadata": {},
     "output_type": "execute_result"
    },
    {
     "data": {
      "image/png": "[encoded data removed]",
      "text/plain": [
       "<Figure size 640x480 with 1 Axes>"
      ]
     },
     "metadata": {},
     "output_type": "display_data"
    }
   ],
   "source": [
    "sample_joined[\"host_name_length\"] = sample_joined.host_name.str.len()\n",
    "plt.scatter(sample_joined.host_name_length, sample_joined.des_attractiveness)"
   ]
  },
  {
   "cell_type": "markdown",
   "metadata": {},
   "source": [
    "No obvious trend is detected, only one outlier can be seen."
   ]
  }
 ],
 "metadata": {
  "kernelspec": {
   "display_name": "Python 3.9.13 64-bit (microsoft store)",
   "language": "python",
   "name": "python3"
  },
  "language_info": {
   "codemirror_mode": {
    "name": "ipython",
    "version": 3
   },
   "file_extension": ".py",
   "mimetype": "text/x-python",
   "name": "python",
   "nbconvert_exporter": "python",
   "pygments_lexer": "ipython3",
   "version": "3.9.13"
  },
  "orig_nbformat": 4,
  "vscode": {
   "interpreter": {
    "hash": "3b74cc86015b30890be47b7f67900d45ab8339fe39cfbe676b8ba070891b652a"
   }
  }
 },
 "nbformat": 4,
 "nbformat_minor": 2
}
